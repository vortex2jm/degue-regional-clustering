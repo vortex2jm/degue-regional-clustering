{
 "cells": [
  {
   "cell_type": "markdown",
   "id": "ced22dd7",
   "metadata": {},
   "source": [
    "## Bibliotecas"
   ]
  },
  {
   "cell_type": "code",
   "execution_count": null,
   "id": "6aa7c7f3",
   "metadata": {},
   "outputs": [],
   "source": [
    "import numpy as np\n",
    "import pandas as pd\n",
    "import matplotlib.pyplot as plt\n",
    "from kmodes.kmodes import KModes\n",
    "from sklearn.decomposition import TruncatedSVD"
   ]
  },
  {
   "cell_type": "markdown",
   "id": "fa52d59b",
   "metadata": {},
   "source": [
    "## Limpeza e pré processamento"
   ]
  },
  {
   "cell_type": "markdown",
   "id": "6647df65",
   "metadata": {},
   "source": [
    "### Carregamento"
   ]
  },
  {
   "cell_type": "code",
   "execution_count": null,
   "id": "54d2c947",
   "metadata": {},
   "outputs": [],
   "source": [
    "desired_cols = [\n",
    "  \"CS_GESTANT\",\n",
    "  \"ANO_NASC\",\n",
    "\n",
    "  \"CS_RACA\",\n",
    "  \"CS_ESCOL_N\",\n",
    "\n",
    "  \"FEBRE\",    # Sintomas\n",
    "  \"MIALGIA\",\n",
    "  \"CEFALEIA\",\n",
    "  \"EXANTEMA\",\n",
    "  \"VOMITO\",\n",
    "  \"NAUSEA\",\n",
    "  \"DOR_COSTAS\",\n",
    "  \"CONJUNTVIT\",\n",
    "  \"ARTRITE\",\n",
    "  \"ARTRALGIA\",\n",
    "  \"PETEQUIA_N\",\n",
    "  \"LEUCOPENIA\",\n",
    "  \"LACO\",\n",
    "  \"DOR_RETRO\",\n",
    "\n",
    "  \"DIABETES\",   # Comorbidades\n",
    "  \"HEMATOLOG\",\n",
    "  \"HEPATOPAT\",\n",
    "  \"RENAL\",\n",
    "  \"HIPERTENSA\",\n",
    "  \"ACIDO_PEPT\",\n",
    "  \"AUTO_IMUNE\",\n",
    "\n",
    "  \"HOSPITALIZ\", # Desfecho\n",
    "  \"CLASSI_FIN\", \n",
    "  \"EVOLUCAO\",\n",
    "]\n",
    "\n",
    "# Carregando dataset\n",
    "DATA_PATH = \"./data/original-2/DENGBR24.csv\"\n",
    "\n",
    "\n",
    "chunks = []\n",
    "\n",
    "for chunk in pd.read_csv(DATA_PATH, low_memory=False, usecols=desired_cols, chunksize=500_000):\n",
    "  filtered = chunk[chunk[\"CS_GESTANT\"].isin([1, 2, 3])]\n",
    "  chunks.append(filtered)\n",
    "\n",
    "\n",
    "df = pd.concat(chunks, ignore_index=True)\n",
    "df.head()"
   ]
  },
  {
   "cell_type": "code",
   "execution_count": null,
   "id": "9febd228",
   "metadata": {},
   "outputs": [],
   "source": [
    "df.shape"
   ]
  },
  {
   "cell_type": "markdown",
   "id": "178821be",
   "metadata": {},
   "source": [
    "### Pré processamento e transformação"
   ]
  },
  {
   "cell_type": "markdown",
   "id": "6f9dd9e6",
   "metadata": {},
   "source": [
    "#### Sintomas e Comorbidades"
   ]
  },
  {
   "cell_type": "code",
   "execution_count": null,
   "id": "a2d6387f",
   "metadata": {},
   "outputs": [],
   "source": [
    "sint_com_cols = [\n",
    "  \"FEBRE\",    # Sintomas\n",
    "  \"MIALGIA\",\n",
    "  \"CEFALEIA\",\n",
    "  \"EXANTEMA\",\n",
    "  \"VOMITO\",\n",
    "  \"NAUSEA\",\n",
    "  \"DOR_COSTAS\",\n",
    "  \"CONJUNTVIT\",\n",
    "  \"ARTRITE\",\n",
    "  \"ARTRALGIA\",\n",
    "  \"PETEQUIA_N\",\n",
    "  \"LEUCOPENIA\",\n",
    "  \"LACO\",\n",
    "  \"DOR_RETRO\",\n",
    "\n",
    "  \"DIABETES\",   # Comorbidades\n",
    "  \"HEMATOLOG\",\n",
    "  \"HEPATOPAT\",\n",
    "  \"RENAL\",\n",
    "  \"HIPERTENSA\",\n",
    "  \"ACIDO_PEPT\",\n",
    "  \"AUTO_IMUNE\",\n",
    "]"
   ]
  },
  {
   "cell_type": "code",
   "execution_count": null,
   "id": "e66d2057",
   "metadata": {},
   "outputs": [],
   "source": [
    "df[sint_com_cols] = df[sint_com_cols].fillna(0)\n",
    "df[sint_com_cols] = df[sint_com_cols].replace(2,0)\n",
    "df[sint_com_cols] = df[sint_com_cols].astype(int)"
   ]
  },
  {
   "cell_type": "markdown",
   "id": "1262e179",
   "metadata": {},
   "source": [
    "#### Raça, escolaridade e gestação e idade"
   ]
  },
  {
   "cell_type": "code",
   "execution_count": null,
   "id": "06007998",
   "metadata": {},
   "outputs": [],
   "source": [
    "# raça\n",
    "df[\"CS_RACA\"] = df[\"CS_RACA\"].replace(9,np.nan)\n",
    "df = df.dropna(subset=[\"CS_RACA\"])\n",
    "\n",
    "# escolaridade\n",
    "df[\"CS_ESCOL_N\"] = df[\"CS_ESCOL_N\"].replace(9,np.nan)\n",
    "df= df.dropna(subset=[\"CS_ESCOL_N\"])\n",
    "\n",
    "# idade\n",
    "df = df.dropna(subset=[\"ANO_NASC\"])\n",
    "current_year = 2024\n",
    "df[\"IDADE\"] = current_year - df[\"ANO_NASC\"]\n",
    "df[\"IDADE\"] = df[\"IDADE\"].astype(int)\n",
    "\n",
    "# categorizando as idades\n",
    "df[\"FAIXA_IDADE\"] = pd.cut(df[\"IDADE\"], bins=[15, 20, 25, 30, 35, 40, 45, 50, 55, 60, 100], labels=[\"15-20\", \"21-25\", \"26-30\", \"31-35\", \"36-40\", \"41-45\", \"46-50\", \"51-55\", \"56-60\", \"60+\"])\n",
    "df = df.dropna(subset=[\"FAIXA_IDADE\"])\n",
    "\n",
    "# categorizando as demais features\n",
    "socio_targets = [\n",
    "  \"CS_RACA\",\n",
    "  \"CS_ESCOL_N\",\n",
    "  \"CS_GESTANT\",\n",
    "  \"FAIXA_IDADE\"\n",
    "]\n",
    "\n",
    "df_dummies = pd.get_dummies(df, columns=socio_targets, prefix=socio_targets)\n",
    "df_dummies.head()\n"
   ]
  },
  {
   "cell_type": "markdown",
   "id": "ccc478dc",
   "metadata": {},
   "source": [
    "## Clusterização"
   ]
  },
  {
   "cell_type": "code",
   "execution_count": null,
   "id": "a2b62926",
   "metadata": {},
   "outputs": [],
   "source": [
    "clustering_cols = [\n",
    "\n",
    "  \"FEBRE\",    # Sintomas\n",
    "  \"MIALGIA\",\n",
    "  \"CEFALEIA\",\n",
    "  \"EXANTEMA\",\n",
    "  \"VOMITO\",\n",
    "  \"NAUSEA\",\n",
    "  \"DOR_COSTAS\",\n",
    "  \"CONJUNTVIT\",\n",
    "  \"ARTRITE\",\n",
    "  \"ARTRALGIA\",\n",
    "  \"PETEQUIA_N\",\n",
    "  \"LEUCOPENIA\",\n",
    "  \"LACO\",\n",
    "  \"DOR_RETRO\",\n",
    "\n",
    "  \"DIABETES\",   # Comorbidades\n",
    "  \"HEMATOLOG\",\n",
    "  \"HEPATOPAT\",\n",
    "  \"RENAL\",\n",
    "  \"HIPERTENSA\",\n",
    "  \"ACIDO_PEPT\",\n",
    "  \"AUTO_IMUNE\",\n",
    "\n",
    "  \"CS_ESCOL_N_1.0\", # escolaridade\n",
    "  \"CS_ESCOL_N_2.0\",\n",
    "  \"CS_ESCOL_N_3.0\",\n",
    "  \"CS_ESCOL_N_4.0\",\n",
    "  \"CS_ESCOL_N_5.0\",\n",
    "  \"CS_ESCOL_N_6.0\",\n",
    "  \"CS_ESCOL_N_7.0\",\n",
    "  \"CS_ESCOL_N_8.0\",\n",
    "  # \"CS_ESCOL_N_9.0\",\n",
    "\n",
    "  \"CS_RACA_1.0\",  # raça\n",
    "  \"CS_RACA_2.0\",\n",
    "  \"CS_RACA_3.0\",\n",
    "  \"CS_RACA_4.0\",\n",
    "  \"CS_RACA_5.0\",\n",
    "\n",
    "  \"CS_GESTANT_1.0\", # periodo gestacional\n",
    "  \"CS_GESTANT_2.0\",\n",
    "  \"CS_GESTANT_3.0\",\n",
    "\n",
    "  \"FAIXA_IDADE_15-20\",\n",
    "  \"FAIXA_IDADE_21-25\",\n",
    "  \"FAIXA_IDADE_26-30\",\n",
    "  \"FAIXA_IDADE_31-35\",\n",
    "  \"FAIXA_IDADE_36-40\",\n",
    "  \"FAIXA_IDADE_41-45\",\n",
    "  \"FAIXA_IDADE_46-50\",\n",
    "  \"FAIXA_IDADE_51-55\",\n",
    "  \"FAIXA_IDADE_56-60\",\n",
    "  \"FAIXA_IDADE_60+\"\n",
    "]\n",
    "\n",
    "df_clustering = df_dummies[clustering_cols]\n",
    "df_clustering.head()"
   ]
  },
  {
   "cell_type": "code",
   "execution_count": null,
   "id": "4901d59b",
   "metadata": {},
   "outputs": [],
   "source": [
    "costs = []\n",
    "K_range = range(1, 11)\n",
    "\n",
    "for k in K_range:\n",
    "    km = KModes(n_clusters=k, init='Huang', n_init=1, verbose=1, random_state=1)\n",
    "    km.fit_predict(df_clustering)\n",
    "    costs.append(km.cost_)\n",
    "\n",
    "plt.plot(K_range, costs, marker='o')\n",
    "plt.xlabel('Número de clusters (K)')\n",
    "plt.ylabel('Custo (Distância intra-cluster)')\n",
    "plt.title('Método do Cotovelo para K-Modes')\n",
    "plt.grid()\n",
    "plt.show()"
   ]
  },
  {
   "cell_type": "code",
   "execution_count": null,
   "id": "47433a33",
   "metadata": {},
   "outputs": [],
   "source": [
    "# Crie o modelo com K=5 e uma inicialização robusta\n",
    "km = KModes(n_clusters=6, init='Huang', n_init=5, verbose=1, random_state=1)\n",
    "\n",
    "# Ajuste o modelo aos dados completos e obtenha os clusters\n",
    "clusters = km.fit_predict(df_clustering)  # df = seu dataframe categórico\n",
    "\n",
    "# Agora você pode adicionar os clusters no dataframe\n",
    "df_clustering['cluster'] = clusters"
   ]
  },
  {
   "cell_type": "code",
   "execution_count": null,
   "id": "ba56f3cf",
   "metadata": {},
   "outputs": [],
   "source": [
    "X = df_clustering.values  # pode ser matriz esparsa, ex: scipy.sparse.csr_matrix\n",
    "\n",
    "svd = TruncatedSVD(n_components=2, random_state=1)\n",
    "X_svd = svd.fit_transform(X)\n",
    "\n",
    "plt.figure(figsize=(10, 7))\n",
    "scatter = plt.scatter(X_svd[:, 0], X_svd[:, 1], c=df_clustering['cluster'], cmap='tab10', s=10)\n",
    "plt.legend(*scatter.legend_elements(), title=\"Clusters\")\n",
    "plt.title(\"Visualização dos clusters com TruncatedSVD\")\n",
    "plt.xlabel(\"Componente 1\")\n",
    "plt.ylabel(\"Componente 2\")\n",
    "plt.show()"
   ]
  },
  {
   "cell_type": "code",
   "execution_count": null,
   "id": "84395a46",
   "metadata": {},
   "outputs": [],
   "source": [
    "# TruncatedSVD para 3 componentes\n",
    "svd = TruncatedSVD(n_components=3, random_state=1)\n",
    "X_svd_3d = svd.fit_transform(X)\n",
    "\n",
    "# Plot 3D\n",
    "fig = plt.figure(figsize=(10, 8))\n",
    "ax = fig.add_subplot(111, projection='3d')\n",
    "\n",
    "scatter = ax.scatter(\n",
    "    X_svd_3d[:, 0], X_svd_3d[:, 1], X_svd_3d[:, 2],\n",
    "    c=df_clustering['cluster'], cmap='tab10', s=15, alpha=0.8\n",
    ")\n",
    "\n",
    "ax.set_title(\"Visualização 3D dos clusters com TruncatedSVD\")\n",
    "ax.set_xlabel(\"Componente 1\")\n",
    "ax.set_ylabel(\"Componente 2\")\n",
    "ax.set_zlabel(\"Componente 3\")\n",
    "\n",
    "legend1 = ax.legend(*scatter.legend_elements(), title=\"Clusters\")\n",
    "ax.add_artist(legend1)\n",
    "\n",
    "plt.show()"
   ]
  },
  {
   "cell_type": "code",
   "execution_count": null,
   "id": "9bc267cf",
   "metadata": {},
   "outputs": [],
   "source": [
    "df[\"cluster\"] = clusters\n",
    "df[\"cluster\"].value_counts()"
   ]
  },
  {
   "cell_type": "code",
   "execution_count": null,
   "id": "4c50bb9c",
   "metadata": {},
   "outputs": [],
   "source": [
    "df.groupby('cluster')['IDADE'].mean().plot(kind='bar')\n",
    "plt.title('Média de Idade por Cluster')\n",
    "plt.ylabel('Idade média')\n",
    "plt.show()"
   ]
  },
  {
   "cell_type": "code",
   "execution_count": null,
   "id": "fd4ecb13",
   "metadata": {},
   "outputs": [],
   "source": [
    "import seaborn as sns\n",
    "\n",
    "cluster_profile = df_clustering.groupby('cluster').mean()\n",
    "\n",
    "plt.figure(figsize=(10, 20))\n",
    "sns.heatmap(cluster_profile.T, cmap='rocket_r', annot=False, fmt=\".2f\")\n",
    "plt.title('Proporção média das categorias por cluster')\n",
    "plt.xlabel('Categorias One-Hot')\n",
    "plt.ylabel('Cluster')\n",
    "plt.show()"
   ]
  },
  {
   "cell_type": "code",
   "execution_count": null,
   "id": "aa25977e",
   "metadata": {},
   "outputs": [],
   "source": [
    "hospitaliz_table = pd.crosstab(df[\"cluster\"], df[\"HOSPITALIZ\"])\n",
    "hospitaliz_table.columns = [\"Sim\", \"Não\", \"Ignorado\"]\n",
    "hospitaliz_prop = hospitaliz_table.div(hospitaliz_table.sum(axis=1), axis=0)\n",
    "hospitaliz_prop = hospitaliz_prop * 100\n",
    "\n",
    "plt.figure(figsize=(8, 6))\n",
    "sns.heatmap(hospitaliz_prop, annot=hospitaliz_prop.round(2).astype(str) + '%', cmap=\"OrRd\", fmt=\"\")\n",
    "plt.title(\"Proporção de Tipos de Hospitalização por Cluster\")\n",
    "plt.xlabel(\"Tipo de Hospitalização\")\n",
    "plt.ylabel(\"Cluster\")\n",
    "plt.show()"
   ]
  },
  {
   "cell_type": "code",
   "execution_count": null,
   "id": "d24b195e",
   "metadata": {},
   "outputs": [],
   "source": [
    "evolution_table = pd.crosstab(df[\"cluster\"], df[\"EVOLUCAO\"])\n",
    "evolution_table.columns = [\"cura\", \"óbito pelo agravo\", \"óbito por outras causas\", \"ignorado\"]\n",
    "evolution_prop = evolution_table.div(evolution_table.sum(axis=1), axis=0)\n",
    "evolution_prop = evolution_prop * 100\n",
    "\n",
    "plt.figure(figsize=(8, 5))\n",
    "sns.heatmap(evolution_prop, annot=evolution_prop.round(2).astype(str) + '%', cmap=\"OrRd\", fmt=\"\")\n",
    "plt.title(\"Proporção de Tipos de Evolução por Cluster\")\n",
    "plt.xlabel(\"Tipo de Evolução\")\n",
    "plt.ylabel(\"Cluster\")\n",
    "plt.show()"
   ]
  },
  {
   "cell_type": "code",
   "execution_count": null,
   "id": "89247119",
   "metadata": {},
   "outputs": [],
   "source": [
    "classi_table = pd.crosstab(df[\"cluster\"], df[\"CLASSI_FIN\"])\n",
    "classi_table.columns = [\"inconclusivo\", \"dengue\", \"dengue alarmante\", \"dengue grave\"]\n",
    "classi_prop = classi_table.div(classi_table.sum(axis=1), axis=0)\n",
    "classi_prop = classi_prop * 100\n",
    "\n",
    "plt.figure(figsize=(8, 5))\n",
    "sns.heatmap(classi_prop, annot=classi_prop.round(2).astype(str) + '%', cmap=\"rocket_r\", fmt=\"\")\n",
    "plt.title(\"Proporção de Tipos de Dengue por Cluster\")\n",
    "plt.xlabel(\"Tipo de Evolução\")\n",
    "plt.ylabel(\"Cluster\")\n",
    "plt.show()"
   ]
  },
  {
   "cell_type": "code",
   "execution_count": null,
   "id": "ad7cbcec",
   "metadata": {},
   "outputs": [],
   "source": [
    "raca_table = pd.crosstab(df[\"cluster\"], df[\"CS_RACA\"])\n",
    "raca_prop = raca_table.div(raca_table.sum(axis=1), axis=0)\n",
    "raca_prop.columns = [\"branca\", \"preta\", \"amarela\", \"parda\", \"indigena\"]\n",
    "raca_prop = raca_prop * 100\n",
    "\n",
    "plt.figure(figsize=(8, 5))\n",
    "sns.heatmap(raca_prop, annot=raca_prop.round(2).astype(str) + '%', cmap=\"OrRd\", fmt=\"\")\n",
    "plt.title(\"Proporção de Raças por Cluster\")\n",
    "plt.xlabel(\"Raças\")\n",
    "plt.ylabel(\"Cluster\")\n",
    "plt.show()"
   ]
  },
  {
   "cell_type": "code",
   "execution_count": null,
   "id": "3f01d22f",
   "metadata": {},
   "outputs": [],
   "source": [
    "escol_table = pd.crosstab(df[\"cluster\"], df[\"CS_ESCOL_N\"])\n",
    "escol_prop = escol_table.div(escol_table.sum(axis=1), axis=0)\n",
    "# escol_prop.columns = [\"branca\", \"preta\", \"amarela\", \"parda\", \"indigena\"]\n",
    "escol_prop = escol_prop * 100\n",
    "\n",
    "plt.figure(figsize=(15, 5))\n",
    "sns.heatmap(escol_prop, annot=escol_prop.round(2).astype(str) + '%', cmap=\"OrRd\", fmt=\"\")\n",
    "plt.title(\"Proporção de Escolaridade por Cluster\")\n",
    "plt.xlabel(\"Nível de Escolaridade\")\n",
    "plt.ylabel(\"Cluster\")\n",
    "plt.show()"
   ]
  },
  {
   "cell_type": "code",
   "execution_count": null,
   "id": "1dbb1b69",
   "metadata": {},
   "outputs": [],
   "source": [
    "gestant_table = pd.crosstab(df[\"cluster\"], df[\"CS_GESTANT\"])\n",
    "gestant_prop = gestant_table.div(gestant_table.sum(axis=1), axis=0)\n",
    "gestant_prop.columns = [\"primeiro\", \"segundo\", \"terceiro\"]\n",
    "gestant_prop = gestant_prop * 100\n",
    "\n",
    "plt.figure(figsize=(15, 5))\n",
    "sns.heatmap(gestant_prop, annot=gestant_prop.round(2).astype(str) + '%', cmap=\"OrRd\", fmt=\"\")\n",
    "plt.title(\"Proporção de Período Gestacional por Cluster\")\n",
    "plt.xlabel(\"Trimestres\")\n",
    "plt.ylabel(\"Cluster\")\n",
    "plt.show()"
   ]
  }
 ],
 "metadata": {
  "kernelspec": {
   "display_name": "venv",
   "language": "python",
   "name": "python3"
  },
  "language_info": {
   "codemirror_mode": {
    "name": "ipython",
    "version": 3
   },
   "file_extension": ".py",
   "mimetype": "text/x-python",
   "name": "python",
   "nbconvert_exporter": "python",
   "pygments_lexer": "ipython3",
   "version": "3.13.3"
  }
 },
 "nbformat": 4,
 "nbformat_minor": 5
}
