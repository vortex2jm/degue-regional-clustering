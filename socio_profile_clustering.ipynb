{
 "cells": [
  {
   "cell_type": "markdown",
   "id": "5bb7a5d5",
   "metadata": {},
   "source": [
    "## Bibliotecas"
   ]
  },
  {
   "cell_type": "code",
   "execution_count": null,
   "id": "44c9e016",
   "metadata": {},
   "outputs": [],
   "source": [
    "import pandas as pd\n",
    "import numpy as np\n",
    "from sklearn.preprocessing import StandardScaler\n",
    "from sklearn.cluster import KMeans\n",
    "import matplotlib.pyplot as plt\n",
    "from sklearn.decomposition import PCA\n",
    "from kmodes.kmodes import KModes"
   ]
  },
  {
   "cell_type": "markdown",
   "id": "0465b752",
   "metadata": {},
   "source": [
    "## Limpeza e Pré processamento"
   ]
  },
  {
   "cell_type": "markdown",
   "id": "9afb6dd9",
   "metadata": {},
   "source": [
    "### Carregamento"
   ]
  },
  {
   "cell_type": "code",
   "execution_count": null,
   "id": "fd2a8a5c",
   "metadata": {},
   "outputs": [],
   "source": [
    "desired_cols = [\n",
    "\n",
    "  \"SG_UF\",\n",
    "\n",
    "  \"ANO_NASC\",\n",
    "  \"CS_SEXO\",\n",
    "  \"CS_RACA\",\n",
    "  \"CS_ESCOL_N\",\n",
    "  \"CS_GESTANT\",\n",
    "\n",
    "  \"FEBRE\",    # Sintomas\n",
    "  \"MIALGIA\",\n",
    "  \"CEFALEIA\",\n",
    "  \"EXANTEMA\",\n",
    "  \"VOMITO\",\n",
    "  \"NAUSEA\",\n",
    "  \"DOR_COSTAS\",\n",
    "  \"CONJUNTVIT\",\n",
    "  \"ARTRITE\",\n",
    "  \"ARTRALGIA\",\n",
    "  \"PETEQUIA_N\",\n",
    "  \"LEUCOPENIA\",\n",
    "  \"LACO\",\n",
    "  \"DOR_RETRO\",\n",
    "\n",
    "  \"DIABETES\",   # Comorbidades\n",
    "  \"HEMATOLOG\",\n",
    "  \"HEPATOPAT\",\n",
    "  \"RENAL\",\n",
    "  \"HIPERTENSA\",\n",
    "  \"ACIDO_PEPT\",\n",
    "  \"AUTO_IMUNE\",\n",
    "\n",
    "  \"HOSPITALIZ\", # Desfecho\n",
    "  \"CLASSI_FIN\", \n",
    "  \"EVOLUCAO\",\n",
    "]\n",
    "\n",
    "# Carregando dataset\n",
    "DATA_PATH = \"./data/original-2/DENGBR24.csv\"\n",
    "\n",
    "\n",
    "chunks = []\n",
    "\n",
    "for chunk in pd.read_csv(DATA_PATH, low_memory=False, usecols=desired_cols, chunksize=500_000):\n",
    "  filtered = chunk[\n",
    "    (chunk[\"CLASSI_FIN\"].isin([10, 11, 12]))  &\n",
    "    (chunk[\"SG_UF\"].isin([31, 32, 33, 35]))   &\n",
    "\n",
    "    (chunk[\"ANO_NASC\"].notna())               &\n",
    "    (chunk[\"ANO_NASC\"] > 1924)                &\n",
    "    \n",
    "    (chunk[\"CS_SEXO\"].isin([\"M\",\"F\"]))        &   \n",
    "    (chunk[\"CS_RACA\"].isin([1, 2, 3, 4, 5]))  &  \n",
    "    (chunk[\"CS_ESCOL_N\"].isin([0, 1, 2, 3, 4, 5, 6, 7, 8]))              \n",
    "  ]\n",
    "  \n",
    "  chunks.append(filtered)\n",
    "\n",
    "\n",
    "df = pd.concat(chunks, ignore_index=True)\n",
    "df.head()"
   ]
  },
  {
   "cell_type": "markdown",
   "id": "5d93441e",
   "metadata": {},
   "source": [
    "### Tratamento"
   ]
  },
  {
   "cell_type": "code",
   "execution_count": null,
   "id": "35849c21",
   "metadata": {},
   "outputs": [],
   "source": [
    "df.shape"
   ]
  },
  {
   "cell_type": "code",
   "execution_count": null,
   "id": "9ef4d27d",
   "metadata": {},
   "outputs": [],
   "source": [
    "df[\"CS_GESTANT\"] = df[\"CS_GESTANT\"].replace({\n",
    "  5: 0,\n",
    "  6: 0,\n",
    "  9: 0,\n",
    "  1: 1,\n",
    "  2: 1,\n",
    "  3: 1,\n",
    "  4: 1\n",
    "})\n",
    "df[\"CS_GESTANT\"] = df[\"CS_GESTANT\"].fillna(0)\n",
    "df[\"CS_GESTANT\"] = df[\"CS_GESTANT\"].astype(int)"
   ]
  },
  {
   "cell_type": "code",
   "execution_count": null,
   "id": "5afca930",
   "metadata": {},
   "outputs": [],
   "source": [
    "current_year =2024\n",
    "df[\"IDADE\"] = current_year - df[\"ANO_NASC\"]\n",
    "df[\"FAIXA_IDADE\"] = pd.cut(df[\"IDADE\"], bins=[0, 10, 20, 30, 40, 60, 100], labels=[\"0-10\", \"11-20\", \"21-30\", \"31-40\", \"41-60\", \"60+\"])"
   ]
  },
  {
   "cell_type": "code",
   "execution_count": null,
   "id": "2625232b",
   "metadata": {},
   "outputs": [],
   "source": [
    "df_dummies = pd.get_dummies(df, columns=[\"FAIXA_IDADE\", \"CS_SEXO\", \"CS_RACA\", \"CS_ESCOL_N\"])\n",
    "df_dummies.info()"
   ]
  },
  {
   "cell_type": "markdown",
   "id": "4bf80f5a",
   "metadata": {},
   "source": [
    "## Clusterização"
   ]
  },
  {
   "cell_type": "code",
   "execution_count": null,
   "id": "7c40270b",
   "metadata": {},
   "outputs": [],
   "source": [
    "clustering_cols = [\n",
    "  \"CS_RACA_1.0\",\n",
    "  \"CS_RACA_2.0\",\n",
    "  \"CS_RACA_3.0\",\n",
    "  \"CS_RACA_4.0\",\n",
    "  \"CS_RACA_5.0\",\n",
    "\n",
    "  \"CS_SEXO_M\",\n",
    "\n",
    "  \"CS_ESCOL_N_0.0\",\n",
    "  \"CS_ESCOL_N_1.0\",\n",
    "  \"CS_ESCOL_N_2.0\",\n",
    "  \"CS_ESCOL_N_3.0\",\n",
    "  \"CS_ESCOL_N_4.0\",\n",
    "  \"CS_ESCOL_N_5.0\",\n",
    "  \"CS_ESCOL_N_6.0\",\n",
    "  \"CS_ESCOL_N_7.0\",\n",
    "  \"CS_ESCOL_N_8.0\",\n",
    "\n",
    "  \"FAIXA_IDADE_0-10\",\n",
    "  \"FAIXA_IDADE_11-20\",\n",
    "  \"FAIXA_IDADE_21-30\",\n",
    "  \"FAIXA_IDADE_31-40\",\n",
    "  \"FAIXA_IDADE_41-60\",\n",
    "  \"FAIXA_IDADE_60+\",\n",
    "\n",
    "  \"CS_GESTANT\"\n",
    "]"
   ]
  },
  {
   "cell_type": "code",
   "execution_count": null,
   "id": "0d1f04d7",
   "metadata": {},
   "outputs": [],
   "source": [
    "df_clustering = df_dummies[clustering_cols]\n",
    "df_clustering.head()"
   ]
  },
  {
   "cell_type": "code",
   "execution_count": null,
   "id": "974edc94",
   "metadata": {},
   "outputs": [],
   "source": [
    "sample = df_clustering.sample(frac=0.2)\n",
    "\n",
    "costs = []\n",
    "K_range = range(1, 11)\n",
    "\n",
    "for k in K_range:\n",
    "    km = KModes(n_clusters=k, init='Huang', n_init=1, verbose=1, random_state=10)\n",
    "    km.fit_predict(sample)\n",
    "    costs.append(km.cost_)\n",
    "\n",
    "plt.plot(K_range, costs, marker='o')\n",
    "plt.xlabel('Número de clusters (K)')\n",
    "plt.ylabel('Custo (Distância intra-cluster)')\n",
    "plt.title('Método do Cotovelo para K-Modes')\n",
    "plt.grid()\n",
    "plt.show()"
   ]
  },
  {
   "cell_type": "code",
   "execution_count": null,
   "id": "4ed1d01a",
   "metadata": {},
   "outputs": [],
   "source": [
    "# Crie o modelo com K=5 e uma inicialização robusta\n",
    "km = KModes(n_clusters=3, init='Huang', n_init=3, verbose=1, random_state=1)\n",
    "\n",
    "# Ajuste o modelo aos dados completos e obtenha os clusters\n",
    "clusters = km.fit_predict(df_clustering)  # df = seu dataframe categórico\n",
    "\n",
    "# Agora você pode adicionar os clusters no dataframe\n",
    "df_clustering['cluster'] = clusters"
   ]
  },
  {
   "cell_type": "code",
   "execution_count": null,
   "id": "82f0fa9f",
   "metadata": {},
   "outputs": [],
   "source": [
    "from sklearn.decomposition import TruncatedSVD\n",
    "\n",
    "X = df_clustering.values  # pode ser matriz esparsa, ex: scipy.sparse.csr_matrix\n",
    "\n",
    "svd = TruncatedSVD(n_components=2, random_state=1)\n",
    "X_svd = svd.fit_transform(X)\n",
    "\n",
    "plt.figure(figsize=(10, 7))\n",
    "scatter = plt.scatter(X_svd[:, 0], X_svd[:, 1], c=df_clustering['cluster'], cmap='tab10', s=10)\n",
    "plt.legend(*scatter.legend_elements(), title=\"Clusters\")\n",
    "plt.title(\"Visualização dos clusters com TruncatedSVD\")\n",
    "plt.xlabel(\"Componente 1\")\n",
    "plt.ylabel(\"Componente 2\")\n",
    "plt.show()"
   ]
  },
  {
   "cell_type": "code",
   "execution_count": null,
   "id": "13e00852",
   "metadata": {},
   "outputs": [],
   "source": [
    "# TruncatedSVD para 3 componentes\n",
    "svd = TruncatedSVD(n_components=3, random_state=1)\n",
    "X_svd_3d = svd.fit_transform(X)\n",
    "\n",
    "# Plot 3D\n",
    "fig = plt.figure(figsize=(10, 8))\n",
    "ax = fig.add_subplot(111, projection='3d')\n",
    "\n",
    "scatter = ax.scatter(\n",
    "    X_svd_3d[:, 0], X_svd_3d[:, 1], X_svd_3d[:, 2],\n",
    "    c=df_clustering['cluster'], cmap='tab10', s=15, alpha=0.8\n",
    ")\n",
    "\n",
    "ax.set_title(\"Visualização 3D dos clusters com TruncatedSVD\")\n",
    "ax.set_xlabel(\"Componente 1\")\n",
    "ax.set_ylabel(\"Componente 2\")\n",
    "ax.set_zlabel(\"Componente 3\")\n",
    "\n",
    "legend1 = ax.legend(*scatter.legend_elements(), title=\"Clusters\")\n",
    "ax.add_artist(legend1)\n",
    "\n",
    "plt.show()"
   ]
  },
  {
   "cell_type": "code",
   "execution_count": null,
   "id": "dbc2663d",
   "metadata": {},
   "outputs": [],
   "source": [
    "df[\"cluster\"] = clusters\n",
    "df[\"cluster\"].value_counts()"
   ]
  },
  {
   "cell_type": "code",
   "execution_count": null,
   "id": "6aa39144",
   "metadata": {},
   "outputs": [],
   "source": [
    "df.groupby('cluster')['IDADE'].mean().plot(kind='bar')\n",
    "plt.title('Média de Idade por Cluster')\n",
    "plt.ylabel('Idade média')\n",
    "plt.show()"
   ]
  },
  {
   "cell_type": "code",
   "execution_count": null,
   "id": "edde7fcf",
   "metadata": {},
   "outputs": [],
   "source": [
    "import seaborn as sns\n",
    "\n",
    "cluster_profile = df_clustering.groupby('cluster').mean()\n",
    "\n",
    "plt.figure(figsize=(10, 20))\n",
    "sns.heatmap(cluster_profile.T, cmap='rocket_r', annot=False, fmt=\".2f\")\n",
    "plt.title('Proporção média das categorias por cluster')\n",
    "plt.xlabel('Categorias One-Hot')\n",
    "plt.ylabel('Cluster')\n",
    "plt.show()"
   ]
  },
  {
   "cell_type": "code",
   "execution_count": null,
   "id": "db2439b9",
   "metadata": {},
   "outputs": [],
   "source": [
    "hospitaliz_table = pd.crosstab(df[\"cluster\"], df[\"HOSPITALIZ\"])\n",
    "hospitaliz_table.columns = [\"Sim\", \"Não\", \"Ignorado\"]\n",
    "hospitaliz_prop = hospitaliz_table.div(hospitaliz_table.sum(axis=1), axis=0)\n",
    "hospitaliz_prop = hospitaliz_prop * 100\n",
    "\n",
    "plt.figure(figsize=(8, 6))\n",
    "sns.heatmap(hospitaliz_prop, annot=hospitaliz_prop.round(2).astype(str) + '%', cmap=\"OrRd\", fmt=\"\")\n",
    "plt.title(\"Proporção de Tipos de Hospitalização por Cluster\")\n",
    "plt.xlabel(\"Tipo de Hospitalização\")\n",
    "plt.ylabel(\"Cluster\")\n",
    "plt.show()"
   ]
  },
  {
   "cell_type": "code",
   "execution_count": null,
   "id": "208b3084",
   "metadata": {},
   "outputs": [],
   "source": [
    "evolution_table = pd.crosstab(df[\"cluster\"], df[\"EVOLUCAO\"])\n",
    "# evolution_table.columns = [\"cura\", \"óbito pelo agravo\", \"óbito por outras causas\", \"ignorado\"]\n",
    "evolution_prop = evolution_table.div(evolution_table.sum(axis=1), axis=0)\n",
    "evolution_prop = evolution_prop * 100\n",
    "\n",
    "plt.figure(figsize=(8, 5))\n",
    "sns.heatmap(evolution_prop, annot=evolution_prop.round(2).astype(str) + '%', cmap=\"OrRd\", fmt=\"\")\n",
    "plt.title(\"Proporção de Tipos de Evolução por Cluster\")\n",
    "plt.xlabel(\"Tipo de Evolução\")\n",
    "plt.ylabel(\"Cluster\")\n",
    "plt.show()"
   ]
  },
  {
   "cell_type": "code",
   "execution_count": null,
   "id": "7194de4c",
   "metadata": {},
   "outputs": [],
   "source": [
    "classi_table = pd.crosstab(df[\"cluster\"], df[\"CLASSI_FIN\"])\n",
    "# classi_table.columns = [\"inconclusivo\", \"dengue\", \"dengue alarmante\", \"dengue grave\"]\n",
    "classi_prop = classi_table.div(classi_table.sum(axis=1), axis=0)\n",
    "classi_prop = classi_prop * 100\n",
    "\n",
    "plt.figure(figsize=(8, 5))\n",
    "sns.heatmap(classi_prop, annot=classi_prop.round(2).astype(str) + '%', cmap=\"rocket_r\", fmt=\"\")\n",
    "plt.title(\"Proporção de Tipos de Dengue por Cluster\")\n",
    "plt.xlabel(\"Tipo de Evolução\")\n",
    "plt.ylabel(\"Cluster\")\n",
    "plt.show()"
   ]
  },
  {
   "cell_type": "code",
   "execution_count": null,
   "id": "874fdd24",
   "metadata": {},
   "outputs": [],
   "source": [
    "raca_table = pd.crosstab(df[\"cluster\"], df[\"CS_RACA\"])\n",
    "raca_prop = raca_table.div(raca_table.sum(axis=1), axis=0)\n",
    "raca_prop.columns = [\"branca\", \"preta\", \"amarela\", \"parda\", \"indigena\"]\n",
    "raca_prop = raca_prop * 100\n",
    "\n",
    "plt.figure(figsize=(8, 5))\n",
    "sns.heatmap(raca_prop, annot=raca_prop.round(2).astype(str) + '%', cmap=\"OrRd\", fmt=\"\")\n",
    "plt.title(\"Proporção de Raças por Cluster\")\n",
    "plt.xlabel(\"Raças\")\n",
    "plt.ylabel(\"Cluster\")\n",
    "plt.show()"
   ]
  },
  {
   "cell_type": "code",
   "execution_count": null,
   "id": "822b913e",
   "metadata": {},
   "outputs": [],
   "source": [
    "escol_table = pd.crosstab(df[\"cluster\"], df[\"CS_ESCOL_N\"])\n",
    "escol_prop = escol_table.div(escol_table.sum(axis=1), axis=0)\n",
    "# escol_prop.columns = [\"branca\", \"preta\", \"amarela\", \"parda\", \"indigena\"]\n",
    "escol_prop = escol_prop * 100\n",
    "\n",
    "plt.figure(figsize=(15, 5))\n",
    "sns.heatmap(escol_prop, annot=escol_prop.round(2).astype(str) + '%', cmap=\"OrRd\", fmt=\"\")\n",
    "plt.title(\"Proporção de Escolaridade por Cluster\")\n",
    "plt.xlabel(\"Nível de Escolaridade\")\n",
    "plt.ylabel(\"Cluster\")\n",
    "plt.show()"
   ]
  }
 ],
 "metadata": {
  "kernelspec": {
   "display_name": "venv",
   "language": "python",
   "name": "python3"
  },
  "language_info": {
   "codemirror_mode": {
    "name": "ipython",
    "version": 3
   },
   "file_extension": ".py",
   "mimetype": "text/x-python",
   "name": "python",
   "nbconvert_exporter": "python",
   "pygments_lexer": "ipython3",
   "version": "3.13.3"
  }
 },
 "nbformat": 4,
 "nbformat_minor": 5
}
