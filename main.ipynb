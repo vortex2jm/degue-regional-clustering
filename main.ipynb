{
 "cells": [
  {
   "cell_type": "markdown",
   "id": "6ff9dbcd",
   "metadata": {},
   "source": [
    "## Bibliotecas"
   ]
  },
  {
   "cell_type": "code",
   "execution_count": null,
   "id": "b5c6b0c0-2579-4ff7-829e-d5f605615f63",
   "metadata": {},
   "outputs": [],
   "source": [
    "import pandas as pd\n",
    "import numpy as np\n",
    "from sklearn.preprocessing import StandardScaler\n",
    "from sklearn.cluster import KMeans\n",
    "import matplotlib.pyplot as plt\n",
    "from sklearn.decomposition import PCA\n",
    "from sklearn.neighbors import NearestNeighbors"
   ]
  },
  {
   "cell_type": "markdown",
   "id": "8e1f2076",
   "metadata": {},
   "source": [
    "## Limpeza e pré processamento dos dados"
   ]
  },
  {
   "cell_type": "markdown",
   "id": "db464db2",
   "metadata": {},
   "source": [
    "### Carregamento"
   ]
  },
  {
   "cell_type": "markdown",
   "id": "891b0d40",
   "metadata": {},
   "source": [
    "Apenas colunas que serão utilizadas na análise"
   ]
  },
  {
   "cell_type": "code",
   "execution_count": null,
   "id": "a511ee16",
   "metadata": {},
   "outputs": [],
   "source": [
    "desired_cols = [\n",
    "  \"ID_AGRAVO\",\n",
    "  \"DT_NOTIFIC\", # Início do caso \n",
    "  \"DT_SIN_PRI\",\n",
    "\n",
    "  \"ANO_NASC\",  # Info pessoal\n",
    "  \"CS_SEXO\",\n",
    "  \"CS_GESTANT\",\n",
    "  \"CS_RACA\",\n",
    "  \"CS_ESCOL_N\",\n",
    "  \"SG_UF\",\n",
    "  \"ID_MN_RESI\",\n",
    "  \"ID_RG_RESI\",\n",
    "\n",
    "  \"FEBRE\",    # Sintomas\n",
    "  \"MIALGIA\",\n",
    "  \"CEFALEIA\",\n",
    "  \"EXANTEMA\",\n",
    "  \"VOMITO\",\n",
    "  \"NAUSEA\",\n",
    "  \"DOR_COSTAS\",\n",
    "  \"CONJUNTVIT\",\n",
    "  \"ARTRITE\",\n",
    "  \"ARTRALGIA\",\n",
    "  \"PETEQUIA_N\",\n",
    "  \"LEUCOPENIA\",\n",
    "  \"LACO\",\n",
    "  \"DOR_RETRO\",\n",
    "\n",
    "  \"DIABETES\",   # Comorbidades\n",
    "  \"HEMATOLOG\",\n",
    "  \"HEPATOPAT\",\n",
    "  \"RENAL\",\n",
    "  \"HIPERTENSA\",\n",
    "  \"ACIDO_PEPT\",\n",
    "  \"AUTO_IMUNE\",\n",
    "\n",
    "  \"HOSPITALIZ\", # Desfecho\n",
    "  \"CLASSI_FIN\", \n",
    "  \"EVOLUCAO\",\n",
    "  \"DT_ENCERRA\"\n",
    "]"
   ]
  },
  {
   "cell_type": "code",
   "execution_count": null,
   "id": "625be06c-5e92-4233-9825-e519e1650a86",
   "metadata": {},
   "outputs": [],
   "source": [
    "# Carregando dataset\n",
    "DATA_PATH = \"./data/original-2/DENGBR25.csv\"\n",
    "df = pd.read_csv(DATA_PATH, low_memory=False, usecols=desired_cols)"
   ]
  },
  {
   "cell_type": "code",
   "execution_count": null,
   "id": "514026fa",
   "metadata": {},
   "outputs": [],
   "source": [
    "df.head()"
   ]
  },
  {
   "cell_type": "code",
   "execution_count": null,
   "id": "8d4b954d",
   "metadata": {},
   "outputs": [],
   "source": [
    "df.info()"
   ]
  },
  {
   "cell_type": "markdown",
   "id": "c72f83fe",
   "metadata": {},
   "source": [
    "### Identificação e remoção de dados inconsistentes para colunas que participarão da clusterização"
   ]
  },
  {
   "cell_type": "markdown",
   "id": "0ada4777",
   "metadata": {},
   "source": [
    "#### ANO_NASC"
   ]
  },
  {
   "cell_type": "code",
   "execution_count": null,
   "id": "cdf1b0c2",
   "metadata": {},
   "outputs": [],
   "source": [
    "df[\"ANO_NASC\"].unique()"
   ]
  },
  {
   "cell_type": "code",
   "execution_count": null,
   "id": "1d0511fb",
   "metadata": {},
   "outputs": [],
   "source": [
    "df = df.dropna(subset=[\"ANO_NASC\"])\n",
    "df[\"ANO_NASC\"].isna().sum()"
   ]
  },
  {
   "cell_type": "markdown",
   "id": "c0b3e33e",
   "metadata": {},
   "source": [
    "#### CS_SEXO"
   ]
  },
  {
   "cell_type": "code",
   "execution_count": null,
   "id": "115562be",
   "metadata": {},
   "outputs": [],
   "source": [
    "df[\"CS_SEXO\"].unique()"
   ]
  },
  {
   "cell_type": "code",
   "execution_count": null,
   "id": "ec2de654",
   "metadata": {},
   "outputs": [],
   "source": [
    "df[\"CS_SEXO\"] = df[\"CS_SEXO\"].replace(\"I\", np.nan)\n",
    "df = df.dropna(subset=[\"CS_SEXO\"])\n",
    "df[\"CS_SEXO\"].unique()"
   ]
  },
  {
   "cell_type": "markdown",
   "id": "80c12d9a",
   "metadata": {},
   "source": [
    "#### CS_GESTANT"
   ]
  },
  {
   "cell_type": "markdown",
   "id": "1338e6ca",
   "metadata": {},
   "source": [
    "1 - 1º Trimestre <br>\n",
    "2 - 2º Trimestre <br>\n",
    "3 - 3º Trimestre <br>\n",
    "4 - Idade gestacional ignorada <br>\n",
    "5 - Não <br>\n",
    "6 - Não se aplica <br>\n",
    "9 - Ignorado <br>"
   ]
  },
  {
   "cell_type": "code",
   "execution_count": null,
   "id": "e2f71bab",
   "metadata": {},
   "outputs": [],
   "source": [
    "df[\"CS_GESTANT\"].unique()"
   ]
  },
  {
   "cell_type": "code",
   "execution_count": null,
   "id": "5b699064",
   "metadata": {},
   "outputs": [],
   "source": [
    "df[\"CS_GESTANT\"] = df[\"CS_GESTANT\"].replace(9.0, np.nan)\n",
    "df = df.dropna(subset=[\"CS_GESTANT\"])\n",
    "df[\"CS_GESTANT\"].unique()"
   ]
  },
  {
   "cell_type": "markdown",
   "id": "a39bf473",
   "metadata": {},
   "source": [
    "#### CS_RACA"
   ]
  },
  {
   "cell_type": "markdown",
   "id": "0d8c1b6c",
   "metadata": {},
   "source": [
    "1- branca <br>\n",
    "2- preta <br>\n",
    "3- amarela <br>\n",
    "4- parda <br>\n",
    "5- indígena <br>\n",
    "9- Ignorado <br>"
   ]
  },
  {
   "cell_type": "code",
   "execution_count": null,
   "id": "a3115e45",
   "metadata": {},
   "outputs": [],
   "source": [
    "df[\"CS_RACA\"].unique()"
   ]
  },
  {
   "cell_type": "code",
   "execution_count": null,
   "id": "cdb0a345",
   "metadata": {},
   "outputs": [],
   "source": [
    "df[\"CS_RACA\"] = df[\"CS_RACA\"].replace(9.0, np.nan)\n",
    "df = df.dropna(subset=[\"CS_RACA\"])\n",
    "df[\"CS_RACA\"].unique()"
   ]
  },
  {
   "cell_type": "markdown",
   "id": "accea8a6",
   "metadata": {},
   "source": [
    "#### CS_ESCOL_N"
   ]
  },
  {
   "cell_type": "markdown",
   "id": "589311cb",
   "metadata": {},
   "source": [
    "Ign/Branco\n",
    ",9 ,09,99 <br>\n",
    "Analfabeto\n",
    "0 ,00 <br>\n",
    "1ª a 4ª série incompleta do EF\n",
    "1\n",
    ",01 <br>\n",
    "4ª série completa do EF\n",
    "2\n",
    ",02 <br>\n",
    "5ª a 8ª série incompleta do EF 3 ,03 <br>\n",
    "Ensino fundamental completo 4 ,04 <br>\n",
    "Ensino médio incompleto\n",
    "5\n",
    ",05 <br>\n",
    "Ensino médio completo\n",
    "6\n",
    ",06 <br>\n",
    "Educação superior incompleta\n",
    "7\n",
    ",07 <br>\n",
    "Educação superior completa\n",
    "8 ,08 <br>\n",
    "Não se aplica\n",
    "10"
   ]
  },
  {
   "cell_type": "code",
   "execution_count": null,
   "id": "b3cbb984",
   "metadata": {},
   "outputs": [],
   "source": [
    "df[\"CS_ESCOL_N\"].unique()"
   ]
  },
  {
   "cell_type": "code",
   "execution_count": null,
   "id": "3d075b15",
   "metadata": {},
   "outputs": [],
   "source": [
    "df[\"CS_ESCOL_N\"] = df[\"CS_ESCOL_N\"].replace(9.0, np.nan).replace(10.0, np.nan)\n",
    "df = df.dropna(subset=[\"CS_ESCOL_N\"])\n",
    "df[\"CS_ESCOL_N\"] = df[\"CS_ESCOL_N\"].astype(int)\n",
    "df[\"CS_ESCOL_N\"].unique()"
   ]
  },
  {
   "cell_type": "code",
   "execution_count": null,
   "id": "1442aac1",
   "metadata": {},
   "outputs": [],
   "source": [
    "df[\"SG_UF\"].unique()"
   ]
  },
  {
   "cell_type": "markdown",
   "id": "8d9d980d",
   "metadata": {},
   "source": [
    "#### Para as demais colunas, somente remover valores NaN"
   ]
  },
  {
   "cell_type": "code",
   "execution_count": null,
   "id": "a480698b",
   "metadata": {},
   "outputs": [],
   "source": [
    "df = df.dropna()\n",
    "df.info()"
   ]
  },
  {
   "cell_type": "markdown",
   "id": "a6c9484a",
   "metadata": {},
   "source": [
    "### Transformação de dados"
   ]
  },
  {
   "cell_type": "markdown",
   "id": "4b930696",
   "metadata": {},
   "source": [
    "#### ANO_NASC"
   ]
  },
  {
   "cell_type": "code",
   "execution_count": null,
   "id": "39ad6400",
   "metadata": {},
   "outputs": [],
   "source": [
    "current_year = 2025\n",
    "df[\"IDADE\"] = current_year - df[\"ANO_NASC\"]\n",
    "df[\"IDADE\"] = df[\"IDADE\"].astype(int)\n",
    "df[\"IDADE\"].unique()"
   ]
  },
  {
   "cell_type": "markdown",
   "id": "b6c3525e",
   "metadata": {},
   "source": [
    "#### CS_SEXO"
   ]
  },
  {
   "cell_type": "code",
   "execution_count": null,
   "id": "b333e7b6",
   "metadata": {},
   "outputs": [],
   "source": [
    "df_encoded_sex = pd.get_dummies(df, columns=[\"CS_SEXO\"], drop_first=True)\n",
    "df_encoded_sex[\"CS_SEXO_M\"] = df_encoded_sex[\"CS_SEXO_M\"].astype(int)"
   ]
  },
  {
   "cell_type": "markdown",
   "id": "986ad770",
   "metadata": {},
   "source": [
    "#### CS_GESTANT"
   ]
  },
  {
   "cell_type": "markdown",
   "id": "79df9e34",
   "metadata": {},
   "source": [
    "1, 2, 3, 4 -> Sim <br>\n",
    "5, 6 -> Não"
   ]
  },
  {
   "cell_type": "code",
   "execution_count": null,
   "id": "83afb62e",
   "metadata": {},
   "outputs": [],
   "source": [
    "df_encoded_sex[\"CS_GESTANT\"] = df_encoded_sex[\"CS_GESTANT\"].replace([1, 2, 3, 4], \"S\")\n",
    "df_encoded_sex[\"CS_GESTANT\"] = df_encoded_sex[\"CS_GESTANT\"].replace([5, 6], \"N\")\n",
    "df_encoded_gest = pd.get_dummies(df_encoded_sex, columns=[\"CS_GESTANT\"], drop_first=True)\n",
    "df_encoded_gest[\"CS_GESTANT_S\"] = df_encoded_gest[\"CS_GESTANT_S\"].astype(int) \n",
    "df_encoded_gest.head()"
   ]
  },
  {
   "cell_type": "markdown",
   "id": "bfb94125",
   "metadata": {},
   "source": [
    "#### CS_RACA"
   ]
  },
  {
   "cell_type": "code",
   "execution_count": null,
   "id": "582612e0",
   "metadata": {},
   "outputs": [],
   "source": [
    "# Trocando raça de float pra int\n",
    "df_encoded_gest[\"CS_RACA\"] = df_encoded_gest[\"CS_RACA\"].astype(int)\n",
    "\n",
    "# One hot encoding\n",
    "df_encoded_raca = pd.get_dummies(df_encoded_gest, columns=[\"CS_RACA\"])\n",
    "\n",
    "# Trocando true e false para 1 e 0\n",
    "colunas_bool = df_encoded_raca.select_dtypes(include='bool').columns\n",
    "df_encoded_raca[colunas_bool] = df_encoded_raca[colunas_bool].astype(int)\n",
    "\n",
    "df_encoded_raca.head()"
   ]
  },
  {
   "cell_type": "markdown",
   "id": "954e9ac1",
   "metadata": {},
   "source": [
    "#### Sintomas e Comorbidades"
   ]
  },
  {
   "cell_type": "markdown",
   "id": "b8eba3c2",
   "metadata": {},
   "source": [
    "Aqui é necessário transformar o 2 em 0 "
   ]
  },
  {
   "cell_type": "code",
   "execution_count": null,
   "id": "a4e99e5d",
   "metadata": {},
   "outputs": [],
   "source": [
    "sint_com_cols = [\n",
    "  \"FEBRE\",    # Sintomas\n",
    "  \"MIALGIA\",\n",
    "  \"CEFALEIA\",\n",
    "  \"EXANTEMA\",\n",
    "  \"VOMITO\",\n",
    "  \"NAUSEA\",\n",
    "  \"DOR_COSTAS\",\n",
    "  \"CONJUNTVIT\",\n",
    "  \"ARTRITE\",\n",
    "  \"ARTRALGIA\",\n",
    "  \"PETEQUIA_N\",\n",
    "  \"LEUCOPENIA\",\n",
    "  \"LACO\",\n",
    "  \"DOR_RETRO\",\n",
    "\n",
    "  \"DIABETES\",   # Comorbidades\n",
    "  \"HEMATOLOG\",\n",
    "  \"HEPATOPAT\",\n",
    "  \"RENAL\",\n",
    "  \"HIPERTENSA\",\n",
    "  \"ACIDO_PEPT\",\n",
    "  \"AUTO_IMUNE\",\n",
    "]"
   ]
  },
  {
   "cell_type": "code",
   "execution_count": null,
   "id": "195a7e0d",
   "metadata": {},
   "outputs": [],
   "source": [
    "df_encoded_final = df_encoded_raca.copy()\n",
    "df_encoded_final.head()"
   ]
  },
  {
   "cell_type": "code",
   "execution_count": null,
   "id": "d702eefa",
   "metadata": {},
   "outputs": [],
   "source": [
    "df_encoded_final[sint_com_cols] = df_encoded_final[sint_com_cols].replace({2:0})\n",
    "df_encoded_final[sint_com_cols] = df_encoded_final[sint_com_cols].astype(int)\n",
    "df_encoded_final.head()"
   ]
  },
  {
   "cell_type": "markdown",
   "id": "b1843ab6",
   "metadata": {},
   "source": []
  },
  {
   "cell_type": "markdown",
   "id": "90311d31",
   "metadata": {},
   "source": [
    "### Clusterização"
   ]
  },
  {
   "cell_type": "code",
   "execution_count": null,
   "id": "61a9088a",
   "metadata": {},
   "outputs": [],
   "source": [
    "clustering_cols = [\n",
    "  \"CS_ESCOL_N\", # Categoricos transformados\n",
    "  \"CS_SEXO_M\",\n",
    "  \"CS_GESTANT_S\",\n",
    "  \"CS_RACA_1\",\n",
    "  \"CS_RACA_2\",\n",
    "  \"CS_RACA_3\",\n",
    "  \"CS_RACA_4\",\n",
    "  \"CS_RACA_5\",\n",
    "  \n",
    "  \"FEBRE\",    # Sintomas\n",
    "  \"MIALGIA\",\n",
    "  \"CEFALEIA\",\n",
    "  \"EXANTEMA\",\n",
    "  \"VOMITO\",\n",
    "  \"NAUSEA\",\n",
    "  \"DOR_COSTAS\",\n",
    "  \"CONJUNTVIT\",\n",
    "  \"ARTRITE\",\n",
    "  \"ARTRALGIA\",\n",
    "  \"PETEQUIA_N\",\n",
    "  \"LEUCOPENIA\",\n",
    "  \"LACO\",\n",
    "  \"DOR_RETRO\",\n",
    "\n",
    "  \"DIABETES\",   # Comorbidades\n",
    "  \"HEMATOLOG\",\n",
    "  \"HEPATOPAT\",\n",
    "  \"RENAL\",\n",
    "  \"HIPERTENSA\",\n",
    "  \"ACIDO_PEPT\",\n",
    "  \"AUTO_IMUNE\",\n",
    "]\n",
    "\n",
    "df_clustering = df_encoded_final[clustering_cols]\n",
    "df_clustering.head()"
   ]
  },
  {
   "cell_type": "code",
   "execution_count": null,
   "id": "cf2e4073",
   "metadata": {},
   "outputs": [],
   "source": [
    "scaler = StandardScaler()\n",
    "X_scaled = scaler.fit_transform(df_clustering)"
   ]
  },
  {
   "cell_type": "code",
   "execution_count": null,
   "id": "3fd5340b",
   "metadata": {},
   "outputs": [],
   "source": [
    "inertias = []\n",
    "for k in range(2, 11):\n",
    "    kmeans = KMeans(n_clusters=k, random_state=42)\n",
    "    kmeans.fit(X_scaled)\n",
    "    inertias.append(kmeans.inertia_)\n",
    "\n",
    "plt.plot(range(2, 11), inertias, marker='o')\n",
    "plt.title(\"Elbow Method\")\n",
    "plt.xlabel(\"Número de clusters\")\n",
    "plt.ylabel(\"Inércia\")\n",
    "plt.show()\n",
    "\n",
    "\n",
    "# kmeans = KMeans(n_clusters=5, random_state=42) \n",
    "# labels_kmeans = kmeans.fit_predict(X_scaled)\n",
    "# df_clustering[\"cluster\"] = labels_kmeans"
   ]
  },
  {
   "cell_type": "code",
   "execution_count": null,
   "id": "04132a72",
   "metadata": {},
   "outputs": [],
   "source": [
    "pca = PCA(n_components=3)\n",
    "X_pca = pca.fit_transform(X_scaled)\n",
    "\n",
    "# plt.figure(figsize=(8, 6))\n",
    "# plt.scatter(X_pca[:, 0], X_pca[:, 1])\n",
    "# plt.xlabel('PC1')\n",
    "# plt.ylabel('PC2')\n",
    "# plt.title('Visualização dos dados com PCA (2D)')\n",
    "# plt.grid(True)\n",
    "# plt.show()\n",
    "\n",
    "# 3. Visualizar os dados em 3D\n",
    "fig = plt.figure(figsize=(10, 7))\n",
    "ax = fig.add_subplot(111, projection='3d')\n",
    "\n",
    "ax.scatter(\n",
    "    X_pca[:, 0], X_pca[:, 1], X_pca[:, 2],\n",
    "    c='gray',\n",
    ")\n",
    "\n",
    "ax.set_xlabel(\"PC1\")\n",
    "ax.set_ylabel(\"PC2\")\n",
    "ax.set_zlabel(\"PC3\")\n",
    "ax.set_title(\"Visualização PCA em 3D\")\n",
    "plt.show()"
   ]
  }
 ],
 "metadata": {
  "kernelspec": {
   "display_name": "venv",
   "language": "python",
   "name": "python3"
  },
  "language_info": {
   "codemirror_mode": {
    "name": "ipython",
    "version": 3
   },
   "file_extension": ".py",
   "mimetype": "text/x-python",
   "name": "python",
   "nbconvert_exporter": "python",
   "pygments_lexer": "ipython3",
   "version": "3.13.3"
  }
 },
 "nbformat": 4,
 "nbformat_minor": 5
}
