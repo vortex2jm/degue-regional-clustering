{
 "cells": [
  {
   "cell_type": "markdown",
   "id": "6ff9dbcd",
   "metadata": {},
   "source": [
    "## Bibliotecas"
   ]
  },
  {
   "cell_type": "code",
   "execution_count": null,
   "id": "b5c6b0c0-2579-4ff7-829e-d5f605615f63",
   "metadata": {},
   "outputs": [],
   "source": [
    "import pandas as pd\n",
    "import numpy as np\n",
    "from sklearn.preprocessing import StandardScaler\n",
    "from sklearn.cluster import KMeans\n",
    "import matplotlib.pyplot as plt\n",
    "from sklearn.decomposition import PCA\n",
    "from kmodes.kmodes import KModes"
   ]
  },
  {
   "cell_type": "markdown",
   "id": "8e1f2076",
   "metadata": {},
   "source": [
    "## Limpeza e pré processamento dos dados"
   ]
  },
  {
   "cell_type": "markdown",
   "id": "db464db2",
   "metadata": {},
   "source": [
    "### Carregamento"
   ]
  },
  {
   "cell_type": "markdown",
   "id": "891b0d40",
   "metadata": {},
   "source": [
    "Apenas colunas que serão utilizadas na análise"
   ]
  },
  {
   "cell_type": "code",
   "execution_count": null,
   "id": "a511ee16",
   "metadata": {},
   "outputs": [],
   "source": [
    "desired_cols = [\n",
    "  \"DT_NOTIFIC\", # Início do caso \n",
    "  \"DT_SIN_PRI\",\n",
    "\n",
    "  \"ANO_NASC\",  # Info pessoal\n",
    "  \"CS_SEXO\",\n",
    "  \"CS_GESTANT\",\n",
    "  \"CS_RACA\",\n",
    "  \"CS_ESCOL_N\",\n",
    "  \"SG_UF\",\n",
    "  \"ID_MN_RESI\",\n",
    "  \"ID_RG_RESI\",\n",
    "\n",
    "  \"FEBRE\",    # Sintomas\n",
    "  \"MIALGIA\",\n",
    "  \"CEFALEIA\",\n",
    "  \"EXANTEMA\",\n",
    "  \"VOMITO\",\n",
    "  \"NAUSEA\",\n",
    "  \"DOR_COSTAS\",\n",
    "  \"CONJUNTVIT\",\n",
    "  \"ARTRITE\",\n",
    "  \"ARTRALGIA\",\n",
    "  \"PETEQUIA_N\",\n",
    "  \"LEUCOPENIA\",\n",
    "  \"LACO\",\n",
    "  \"DOR_RETRO\",\n",
    "\n",
    "  \"DIABETES\",   # Comorbidades\n",
    "  \"HEMATOLOG\",\n",
    "  \"HEPATOPAT\",\n",
    "  \"RENAL\",\n",
    "  \"HIPERTENSA\",\n",
    "  \"ACIDO_PEPT\",\n",
    "  \"AUTO_IMUNE\",\n",
    "\n",
    "  \"HOSPITALIZ\", # Desfecho\n",
    "  \"CLASSI_FIN\", \n",
    "  \"EVOLUCAO\",\n",
    "  \"DT_ENCERRA\"\n",
    "]"
   ]
  },
  {
   "cell_type": "code",
   "execution_count": null,
   "id": "625be06c-5e92-4233-9825-e519e1650a86",
   "metadata": {},
   "outputs": [],
   "source": [
    "# Carregando dataset\n",
    "DATA_PATH = \"./data/original-2/DENGBR23.csv\"\n",
    "df = pd.read_csv(DATA_PATH, low_memory=False, usecols=desired_cols)"
   ]
  },
  {
   "cell_type": "code",
   "execution_count": null,
   "id": "514026fa",
   "metadata": {},
   "outputs": [],
   "source": [
    "df.head()"
   ]
  },
  {
   "cell_type": "code",
   "execution_count": null,
   "id": "8d4b954d",
   "metadata": {},
   "outputs": [],
   "source": [
    "df.info()"
   ]
  },
  {
   "cell_type": "markdown",
   "id": "c72f83fe",
   "metadata": {},
   "source": [
    "### Filtragem"
   ]
  },
  {
   "cell_type": "markdown",
   "id": "e9ef9619",
   "metadata": {},
   "source": [
    "#### SG_UF"
   ]
  },
  {
   "cell_type": "markdown",
   "id": "6d21b773",
   "metadata": {},
   "source": [
    "31 - Minas Gerais<br>\n",
    "32 - Espírito Santo<br>\n",
    "33 - Rio de Janeiro<br>\n",
    "35 - São Paulo"
   ]
  },
  {
   "cell_type": "code",
   "execution_count": null,
   "id": "fe610cba",
   "metadata": {},
   "outputs": [],
   "source": [
    "target_ufs = [31, 32, 33, 35]\n",
    "df = df[df[\"SG_UF\"].isin(target_ufs)]\n",
    "df[\"SG_UF\"].value_counts()"
   ]
  },
  {
   "cell_type": "markdown",
   "id": "2401fbfe",
   "metadata": {},
   "source": [
    "#### CLASSI_FIN"
   ]
  },
  {
   "cell_type": "markdown",
   "id": "0cf824f3",
   "metadata": {},
   "source": [
    "Somente casos confirmados<br>\n",
    "10 - Dengue<br>\n",
    "11 - Dengue com sinais de alarme<br>\n",
    "12 - Dengue grave"
   ]
  },
  {
   "cell_type": "code",
   "execution_count": null,
   "id": "af2af39f",
   "metadata": {},
   "outputs": [],
   "source": [
    "target_classi_fins = [10, 11, 12]\n",
    "df = df[df[\"CLASSI_FIN\"].isin(target_classi_fins)]\n",
    "df[\"CLASSI_FIN\"].unique()"
   ]
  },
  {
   "cell_type": "markdown",
   "id": "0ada4777",
   "metadata": {},
   "source": [
    "#### ANO_NASC"
   ]
  },
  {
   "cell_type": "code",
   "execution_count": null,
   "id": "cdf1b0c2",
   "metadata": {},
   "outputs": [],
   "source": [
    "df[\"ANO_NASC\"].unique()"
   ]
  },
  {
   "cell_type": "code",
   "execution_count": null,
   "id": "1d0511fb",
   "metadata": {},
   "outputs": [],
   "source": [
    "df = df.dropna(subset=[\"ANO_NASC\"])\n",
    "df[\"ANO_NASC\"].isna().sum()"
   ]
  },
  {
   "cell_type": "markdown",
   "id": "c0b3e33e",
   "metadata": {},
   "source": [
    "#### CS_SEXO"
   ]
  },
  {
   "cell_type": "code",
   "execution_count": null,
   "id": "115562be",
   "metadata": {},
   "outputs": [],
   "source": [
    "df[\"CS_SEXO\"].unique()"
   ]
  },
  {
   "cell_type": "code",
   "execution_count": null,
   "id": "ec2de654",
   "metadata": {},
   "outputs": [],
   "source": [
    "df[\"CS_SEXO\"] = df[\"CS_SEXO\"].replace(\"I\", np.nan)\n",
    "df = df.dropna(subset=[\"CS_SEXO\"])\n",
    "df[\"CS_SEXO\"].unique()"
   ]
  },
  {
   "cell_type": "markdown",
   "id": "80c12d9a",
   "metadata": {},
   "source": [
    "#### CS_GESTANT"
   ]
  },
  {
   "cell_type": "markdown",
   "id": "1338e6ca",
   "metadata": {},
   "source": [
    "1 - 1º Trimestre <br>\n",
    "2 - 2º Trimestre <br>\n",
    "3 - 3º Trimestre <br>\n",
    "4 - Idade gestacional ignorada <br>\n",
    "5 - Não <br>\n",
    "6 - Não se aplica <br>\n",
    "9 - Ignorado <br>"
   ]
  },
  {
   "cell_type": "code",
   "execution_count": null,
   "id": "e2f71bab",
   "metadata": {},
   "outputs": [],
   "source": [
    "df[\"CS_GESTANT\"].unique()"
   ]
  },
  {
   "cell_type": "code",
   "execution_count": null,
   "id": "5b699064",
   "metadata": {},
   "outputs": [],
   "source": [
    "df[\"CS_GESTANT\"] = df[\"CS_GESTANT\"].replace(9.0, np.nan)\n",
    "df = df.dropna(subset=[\"CS_GESTANT\"])\n",
    "df[\"CS_GESTANT\"].unique()"
   ]
  },
  {
   "cell_type": "markdown",
   "id": "a39bf473",
   "metadata": {},
   "source": [
    "#### CS_RACA"
   ]
  },
  {
   "cell_type": "markdown",
   "id": "0d8c1b6c",
   "metadata": {},
   "source": [
    "1- branca <br>\n",
    "2- preta <br>\n",
    "3- amarela <br>\n",
    "4- parda <br>\n",
    "5- indígena <br>\n",
    "9- Ignorado <br>"
   ]
  },
  {
   "cell_type": "code",
   "execution_count": null,
   "id": "a3115e45",
   "metadata": {},
   "outputs": [],
   "source": [
    "df[\"CS_RACA\"].unique()"
   ]
  },
  {
   "cell_type": "code",
   "execution_count": null,
   "id": "cdb0a345",
   "metadata": {},
   "outputs": [],
   "source": [
    "df[\"CS_RACA\"] = df[\"CS_RACA\"].replace(9.0, np.nan)\n",
    "df = df.dropna(subset=[\"CS_RACA\"])\n",
    "df[\"CS_RACA\"].unique()"
   ]
  },
  {
   "cell_type": "markdown",
   "id": "accea8a6",
   "metadata": {},
   "source": [
    "#### CS_ESCOL_N"
   ]
  },
  {
   "cell_type": "markdown",
   "id": "589311cb",
   "metadata": {},
   "source": [
    "Ign/Branco\n",
    ",9 ,09,99 <br>\n",
    "Analfabeto\n",
    "0 ,00 <br>\n",
    "1ª a 4ª série incompleta do EF\n",
    "1\n",
    ",01 <br>\n",
    "4ª série completa do EF\n",
    "2\n",
    ",02 <br>\n",
    "5ª a 8ª série incompleta do EF 3 ,03 <br>\n",
    "Ensino fundamental completo 4 ,04 <br>\n",
    "Ensino médio incompleto\n",
    "5\n",
    ",05 <br>\n",
    "Ensino médio completo\n",
    "6\n",
    ",06 <br>\n",
    "Educação superior incompleta\n",
    "7\n",
    ",07 <br>\n",
    "Educação superior completa\n",
    "8 ,08 <br>\n",
    "Não se aplica\n",
    "10"
   ]
  },
  {
   "cell_type": "code",
   "execution_count": null,
   "id": "b3cbb984",
   "metadata": {},
   "outputs": [],
   "source": [
    "df[\"CS_ESCOL_N\"].unique()"
   ]
  },
  {
   "cell_type": "code",
   "execution_count": null,
   "id": "3d075b15",
   "metadata": {},
   "outputs": [],
   "source": [
    "df[\"CS_ESCOL_N\"] = df[\"CS_ESCOL_N\"].replace(9.0, np.nan).replace(10.0, np.nan)\n",
    "df = df.dropna(subset=[\"CS_ESCOL_N\"])\n",
    "df[\"CS_ESCOL_N\"] = df[\"CS_ESCOL_N\"].astype(int)\n",
    "df[\"CS_ESCOL_N\"].unique()"
   ]
  },
  {
   "cell_type": "code",
   "execution_count": null,
   "id": "1442aac1",
   "metadata": {},
   "outputs": [],
   "source": [
    "df[\"SG_UF\"].unique()"
   ]
  },
  {
   "cell_type": "markdown",
   "id": "8d9d980d",
   "metadata": {},
   "source": [
    "#### Sintomas e comorbidades"
   ]
  },
  {
   "cell_type": "code",
   "execution_count": null,
   "id": "a480698b",
   "metadata": {},
   "outputs": [],
   "source": [
    "df = df.fillna(2)\n",
    "df.info()"
   ]
  },
  {
   "cell_type": "markdown",
   "id": "a6c9484a",
   "metadata": {},
   "source": [
    "### Transformação de dados"
   ]
  },
  {
   "cell_type": "markdown",
   "id": "4b930696",
   "metadata": {},
   "source": [
    "#### ANO_NASC"
   ]
  },
  {
   "cell_type": "code",
   "execution_count": null,
   "id": "39ad6400",
   "metadata": {},
   "outputs": [],
   "source": [
    "current_year = 2025\n",
    "df[\"IDADE\"] = current_year - df[\"ANO_NASC\"]\n",
    "df[\"IDADE\"] = df[\"IDADE\"].astype(int)\n",
    "df[\"IDADE\"].unique()"
   ]
  },
  {
   "cell_type": "code",
   "execution_count": null,
   "id": "c5662246",
   "metadata": {},
   "outputs": [],
   "source": [
    "df[\"FAIXA_IDADE\"] = pd.cut(df[\"IDADE\"], bins=[0, 10, 20, 30, 40, 60, 100], labels=[\"0-10\", \"11-20\", \"21-30\", \"31-40\", \"41-60\", \"60+\"])\n",
    "df = df.dropna(subset=[\"FAIXA_IDADE\"])\n",
    "df_encoded_age = pd.get_dummies(df, columns=[\"FAIXA_IDADE\"])"
   ]
  },
  {
   "cell_type": "markdown",
   "id": "b6c3525e",
   "metadata": {},
   "source": [
    "#### CS_SEXO"
   ]
  },
  {
   "cell_type": "code",
   "execution_count": null,
   "id": "b333e7b6",
   "metadata": {},
   "outputs": [],
   "source": [
    "df_encoded_sex = pd.get_dummies(df_encoded_age, columns=[\"CS_SEXO\"], drop_first=True)\n",
    "df_encoded_sex[\"CS_SEXO_M\"] = df_encoded_sex[\"CS_SEXO_M\"].astype(int)"
   ]
  },
  {
   "cell_type": "markdown",
   "id": "986ad770",
   "metadata": {},
   "source": [
    "#### CS_GESTANT"
   ]
  },
  {
   "cell_type": "markdown",
   "id": "79df9e34",
   "metadata": {},
   "source": [
    "1, 2, 3, 4 -> Sim <br>\n",
    "5, 6 -> Não"
   ]
  },
  {
   "cell_type": "code",
   "execution_count": null,
   "id": "83afb62e",
   "metadata": {},
   "outputs": [],
   "source": [
    "df_encoded_sex[\"CS_GESTANT\"] = df_encoded_sex[\"CS_GESTANT\"].replace([1, 2, 3, 4], \"S\")\n",
    "df_encoded_sex[\"CS_GESTANT\"] = df_encoded_sex[\"CS_GESTANT\"].replace([5, 6], \"N\")\n",
    "df_encoded_gest = pd.get_dummies(df_encoded_sex, columns=[\"CS_GESTANT\"], drop_first=True)\n",
    "df_encoded_gest[\"CS_GESTANT_S\"] = df_encoded_gest[\"CS_GESTANT_S\"].astype(int) \n",
    "df_encoded_gest.head()"
   ]
  },
  {
   "cell_type": "markdown",
   "id": "bfb94125",
   "metadata": {},
   "source": [
    "#### CS_RACA"
   ]
  },
  {
   "cell_type": "code",
   "execution_count": null,
   "id": "582612e0",
   "metadata": {},
   "outputs": [],
   "source": [
    "# Trocando raça de float pra int\n",
    "df_encoded_gest[\"CS_RACA\"] = df_encoded_gest[\"CS_RACA\"].astype(int)\n",
    "\n",
    "# One hot encoding\n",
    "df_encoded_raca = pd.get_dummies(df_encoded_gest, columns=[\"CS_RACA\"])\n",
    "\n",
    "df_encoded_raca.head()"
   ]
  },
  {
   "cell_type": "markdown",
   "id": "4ad84e86",
   "metadata": {},
   "source": [
    "#### CS_ESCOL_N"
   ]
  },
  {
   "cell_type": "code",
   "execution_count": null,
   "id": "595f6694",
   "metadata": {},
   "outputs": [],
   "source": [
    "df_encoded_escol = pd.get_dummies(df_encoded_raca, columns=[\"CS_ESCOL_N\"])\n",
    "\n",
    "# Trocando true e false para 1 e 0\n",
    "colunas_bool = df_encoded_escol.select_dtypes(include='bool').columns\n",
    "df_encoded_escol[colunas_bool] = df_encoded_escol[colunas_bool].astype(int)\n",
    "\n",
    "df_encoded_escol.head()"
   ]
  },
  {
   "cell_type": "markdown",
   "id": "954e9ac1",
   "metadata": {},
   "source": [
    "#### Sintomas e Comorbidades"
   ]
  },
  {
   "cell_type": "markdown",
   "id": "b8eba3c2",
   "metadata": {},
   "source": [
    "Aqui é necessário transformar o 2 em 0 "
   ]
  },
  {
   "cell_type": "code",
   "execution_count": null,
   "id": "a4e99e5d",
   "metadata": {},
   "outputs": [],
   "source": [
    "sint_com_cols = [\n",
    "  \"FEBRE\",    # Sintomas\n",
    "  \"MIALGIA\",\n",
    "  \"CEFALEIA\",\n",
    "  \"EXANTEMA\",\n",
    "  \"VOMITO\",\n",
    "  \"NAUSEA\",\n",
    "  \"DOR_COSTAS\",\n",
    "  \"CONJUNTVIT\",\n",
    "  \"ARTRITE\",\n",
    "  \"ARTRALGIA\",\n",
    "  \"PETEQUIA_N\",\n",
    "  \"LEUCOPENIA\",\n",
    "  \"LACO\",\n",
    "  \"DOR_RETRO\",\n",
    "\n",
    "  \"DIABETES\",   # Comorbidades\n",
    "  \"HEMATOLOG\",\n",
    "  \"HEPATOPAT\",\n",
    "  \"RENAL\",\n",
    "  \"HIPERTENSA\",\n",
    "  \"ACIDO_PEPT\",\n",
    "  \"AUTO_IMUNE\",\n",
    "]"
   ]
  },
  {
   "cell_type": "code",
   "execution_count": null,
   "id": "195a7e0d",
   "metadata": {},
   "outputs": [],
   "source": [
    "df_encoded_final = df_encoded_escol.copy()\n",
    "df_encoded_final.head()"
   ]
  },
  {
   "cell_type": "code",
   "execution_count": null,
   "id": "d702eefa",
   "metadata": {},
   "outputs": [],
   "source": [
    "df_encoded_final[sint_com_cols] = df_encoded_final[sint_com_cols].replace({2:0})\n",
    "df_encoded_final[sint_com_cols] = df_encoded_final[sint_com_cols].astype(int)\n",
    "df_encoded_final.head()"
   ]
  },
  {
   "cell_type": "markdown",
   "id": "90311d31",
   "metadata": {},
   "source": [
    "### Seleção de colunas para clusterização"
   ]
  },
  {
   "cell_type": "code",
   "execution_count": null,
   "id": "61a9088a",
   "metadata": {},
   "outputs": [],
   "source": [
    "clustering_cols = [\n",
    "  \"CS_ESCOL_N_0\", # Categoricos transformados\n",
    "  \"CS_ESCOL_N_1\",\n",
    "  \"CS_ESCOL_N_2\",\n",
    "  \"CS_ESCOL_N_3\",\n",
    "  \"CS_ESCOL_N_4\",\n",
    "  \"CS_ESCOL_N_5\",\n",
    "  \"CS_ESCOL_N_6\",\n",
    "  \"CS_ESCOL_N_7\",\n",
    "  \"CS_ESCOL_N_8\",\n",
    "\n",
    "  \"CS_SEXO_M\",\n",
    "  \"CS_GESTANT_S\",\n",
    "\n",
    "  \"CS_RACA_1\",\n",
    "  \"CS_RACA_2\",\n",
    "  \"CS_RACA_3\",\n",
    "  \"CS_RACA_4\",\n",
    "  \"CS_RACA_5\",\n",
    "\n",
    "  \"FAIXA_IDADE_0-10\",\n",
    "  \"FAIXA_IDADE_11-20\",\n",
    "  \"FAIXA_IDADE_21-30\",\n",
    "  \"FAIXA_IDADE_31-40\",\n",
    "  \"FAIXA_IDADE_41-60\",\n",
    "  \"FAIXA_IDADE_60+\",\n",
    "  \n",
    "  \"FEBRE\",    # Sintomas\n",
    "  \"MIALGIA\",\n",
    "  \"CEFALEIA\",\n",
    "  \"EXANTEMA\",\n",
    "  \"VOMITO\",\n",
    "  \"NAUSEA\",\n",
    "  \"DOR_COSTAS\",\n",
    "  \"CONJUNTVIT\",\n",
    "  \"ARTRITE\",\n",
    "  \"ARTRALGIA\",\n",
    "  \"PETEQUIA_N\",\n",
    "  \"LEUCOPENIA\",\n",
    "  \"LACO\",\n",
    "  \"DOR_RETRO\",\n",
    "\n",
    "  \"DIABETES\",   # Comorbidades\n",
    "  \"HEMATOLOG\",\n",
    "  \"HEPATOPAT\",\n",
    "  \"RENAL\",\n",
    "  \"HIPERTENSA\",\n",
    "  \"ACIDO_PEPT\",\n",
    "  \"AUTO_IMUNE\",\n",
    "]\n",
    "\n",
    "df_clustering = df_encoded_final[clustering_cols]\n",
    "df_clustering.head()"
   ]
  },
  {
   "cell_type": "markdown",
   "id": "af8ef5bb",
   "metadata": {},
   "source": [
    "#### Não é preciso normalização para dados com one hot encoding"
   ]
  },
  {
   "cell_type": "code",
   "execution_count": null,
   "id": "cf2e4073",
   "metadata": {},
   "outputs": [],
   "source": [
    "# scaler = StandardScaler()\n",
    "# X_scaled = scaler.fit_transform(df_clustering)"
   ]
  },
  {
   "cell_type": "markdown",
   "id": "f973c4f1",
   "metadata": {},
   "source": [
    "## Clusterização"
   ]
  },
  {
   "cell_type": "markdown",
   "id": "f20dd1ce",
   "metadata": {},
   "source": [
    "### KModes com One Hot Encoding"
   ]
  },
  {
   "cell_type": "code",
   "execution_count": null,
   "id": "8842dd01",
   "metadata": {},
   "outputs": [],
   "source": [
    "# sample = df_clustering.sample(frac=0.2, random_state=1)\n",
    "\n",
    "# costs = []\n",
    "# K_range = range(1, 11)\n",
    "\n",
    "# for k in K_range:\n",
    "#     km = KModes(n_clusters=k, init='Huang', n_init=1, verbose=1)\n",
    "#     km.fit_predict(sample)\n",
    "#     costs.append(km.cost_)\n",
    "\n",
    "# plt.plot(K_range, costs, marker='o')\n",
    "# plt.xlabel('Número de clusters (K)')\n",
    "# plt.ylabel('Custo (Distância intra-cluster)')\n",
    "# plt.title('Método do Cotovelo para K-Modes')\n",
    "# plt.grid()\n",
    "# plt.show()"
   ]
  },
  {
   "cell_type": "code",
   "execution_count": null,
   "id": "d267a926",
   "metadata": {},
   "outputs": [],
   "source": [
    "# Crie o modelo com K=5 e uma inicialização robusta\n",
    "km = KModes(n_clusters=3, init='Huang', n_init=3, verbose=1)\n",
    "\n",
    "# Ajuste o modelo aos dados completos e obtenha os clusters\n",
    "clusters = km.fit_predict(df_clustering)  # df = seu dataframe categórico\n",
    "\n",
    "# Agora você pode adicionar os clusters no dataframe\n",
    "df_clustering['cluster'] = clusters"
   ]
  },
  {
   "cell_type": "code",
   "execution_count": null,
   "id": "0c2dfd1c",
   "metadata": {},
   "outputs": [],
   "source": [
    "from sklearn.decomposition import TruncatedSVD\n",
    "\n",
    "X = df_clustering.values  # pode ser matriz esparsa, ex: scipy.sparse.csr_matrix\n",
    "\n",
    "svd = TruncatedSVD(n_components=2, random_state=1)\n",
    "X_svd = svd.fit_transform(X)\n",
    "\n",
    "plt.figure(figsize=(10, 7))\n",
    "scatter = plt.scatter(X_svd[:, 0], X_svd[:, 1], c=df_clustering['cluster'], cmap='tab10', s=10)\n",
    "plt.legend(*scatter.legend_elements(), title=\"Clusters\")\n",
    "plt.title(\"Visualização dos clusters com TruncatedSVD\")\n",
    "plt.xlabel(\"Componente 1\")\n",
    "plt.ylabel(\"Componente 2\")\n",
    "plt.show()"
   ]
  },
  {
   "cell_type": "code",
   "execution_count": null,
   "id": "0cbe0848",
   "metadata": {},
   "outputs": [],
   "source": [
    "# TruncatedSVD para 3 componentes\n",
    "svd = TruncatedSVD(n_components=3, random_state=1)\n",
    "X_svd_3d = svd.fit_transform(X)\n",
    "\n",
    "# Plot 3D\n",
    "fig = plt.figure(figsize=(10, 8))\n",
    "ax = fig.add_subplot(111, projection='3d')\n",
    "\n",
    "scatter = ax.scatter(\n",
    "    X_svd_3d[:, 0], X_svd_3d[:, 1], X_svd_3d[:, 2],\n",
    "    c=df_clustering['cluster'], cmap='tab10', s=15, alpha=0.8\n",
    ")\n",
    "\n",
    "ax.set_title(\"Visualização 3D dos clusters com TruncatedSVD\")\n",
    "ax.set_xlabel(\"Componente 1\")\n",
    "ax.set_ylabel(\"Componente 2\")\n",
    "ax.set_zlabel(\"Componente 3\")\n",
    "\n",
    "legend1 = ax.legend(*scatter.legend_elements(), title=\"Clusters\")\n",
    "ax.add_artist(legend1)\n",
    "\n",
    "plt.show()"
   ]
  },
  {
   "cell_type": "code",
   "execution_count": null,
   "id": "d180c1b4",
   "metadata": {},
   "outputs": [],
   "source": [
    "df[\"cluster\"] = clusters\n",
    "df.head()"
   ]
  },
  {
   "cell_type": "code",
   "execution_count": null,
   "id": "019abbaa",
   "metadata": {},
   "outputs": [],
   "source": [
    "df[\"EVOLUCAO\"].unique()"
   ]
  },
  {
   "cell_type": "code",
   "execution_count": null,
   "id": "ed18ddb5",
   "metadata": {},
   "outputs": [],
   "source": [
    "df[\"HOSPITALIZ\"].unique()"
   ]
  },
  {
   "cell_type": "code",
   "execution_count": null,
   "id": "5289702a",
   "metadata": {},
   "outputs": [],
   "source": [
    "# contagem de elementos por cluster\n",
    "df[\"cluster\"].value_counts()"
   ]
  },
  {
   "cell_type": "code",
   "execution_count": null,
   "id": "8bf2d2fc",
   "metadata": {},
   "outputs": [],
   "source": [
    "df.groupby('cluster')['IDADE'].mean().plot(kind='bar')\n",
    "plt.title('Média de Idade por Cluster')\n",
    "plt.ylabel('Idade média')\n",
    "plt.show()"
   ]
  },
  {
   "cell_type": "code",
   "execution_count": null,
   "id": "36b9f9a9",
   "metadata": {},
   "outputs": [],
   "source": [
    "import seaborn as sns\n",
    "\n",
    "cluster_profile = df_clustering.groupby('cluster').mean()\n",
    "\n",
    "plt.figure(figsize=(10, 20))\n",
    "sns.heatmap(cluster_profile.T, cmap='rocket_r', annot=False, fmt=\".2f\")\n",
    "plt.title('Proporção média das categorias por cluster')\n",
    "plt.xlabel('Categorias One-Hot')\n",
    "plt.ylabel('Cluster')\n",
    "plt.show()"
   ]
  },
  {
   "cell_type": "code",
   "execution_count": null,
   "id": "24ecf494",
   "metadata": {},
   "outputs": [],
   "source": [
    "cluster_profile"
   ]
  },
  {
   "cell_type": "code",
   "execution_count": null,
   "id": "d55c2723",
   "metadata": {},
   "outputs": [],
   "source": [
    "hospitaliz_table = pd.crosstab(df[\"cluster\"], df[\"HOSPITALIZ\"])\n",
    "hospitaliz_table.columns = [\"Sim\", \"Não\", \"Ignorado\"]\n",
    "hospitaliz_prop = hospitaliz_table.div(hospitaliz_table.sum(axis=1), axis=0)\n",
    "hospitaliz_prop = hospitaliz_prop * 100\n"
   ]
  },
  {
   "cell_type": "code",
   "execution_count": null,
   "id": "3eabf6ae",
   "metadata": {},
   "outputs": [],
   "source": [
    "plt.figure(figsize=(8, 6))\n",
    "sns.heatmap(hospitaliz_prop, annot=hospitaliz_prop.round(2).astype(str) + '%', cmap=\"OrRd\", fmt=\"\")\n",
    "plt.title(\"Proporção de Tipos de Hospitalização por Cluster\")\n",
    "plt.xlabel(\"Tipo de Hospitalização\")\n",
    "plt.ylabel(\"Cluster\")\n",
    "plt.show()"
   ]
  },
  {
   "cell_type": "code",
   "execution_count": null,
   "id": "5ae238ac",
   "metadata": {},
   "outputs": [],
   "source": [
    "evolution_table = pd.crosstab(df[\"cluster\"], df[\"EVOLUCAO\"])\n",
    "evolution_table.columns = [\"cura\", \"óbito pelo agravo\", \"óbito por outras causas\", \"óbito em investigação\", \"ignorado\"]\n",
    "evolution_prop = evolution_table.div(evolution_table.sum(axis=1), axis=0)\n",
    "evolution_prop = evolution_prop * 100"
   ]
  },
  {
   "cell_type": "code",
   "execution_count": null,
   "id": "a0f8573d",
   "metadata": {},
   "outputs": [],
   "source": [
    "plt.figure(figsize=(8, 5))\n",
    "sns.heatmap(evolution_prop, annot=evolution_prop.round(2).astype(str) + '%', cmap=\"OrRd\", fmt=\"\")\n",
    "plt.title(\"Proporção de Tipos de Evolução por Cluster\")\n",
    "plt.xlabel(\"Tipo de Evolução\")\n",
    "plt.ylabel(\"Cluster\")\n",
    "plt.show()"
   ]
  },
  {
   "cell_type": "code",
   "execution_count": null,
   "id": "1aa1a4dd",
   "metadata": {},
   "outputs": [],
   "source": [
    "classi_table = pd.crosstab(df[\"cluster\"], df[\"CLASSI_FIN\"])\n",
    "classi_table.columns = [\"dengue\", \"dengue alarmante\", \"dengue grave\"]\n",
    "classi_prop = classi_table.div(classi_table.sum(axis=1), axis=0)\n",
    "classi_prop = classi_prop * 100"
   ]
  },
  {
   "cell_type": "code",
   "execution_count": null,
   "id": "9c240718",
   "metadata": {},
   "outputs": [],
   "source": [
    "plt.figure(figsize=(8, 5))\n",
    "sns.heatmap(classi_prop, annot=classi_prop.round(2).astype(str) + '%', cmap=\"OrRd\", fmt=\"\")\n",
    "plt.title(\"Proporção de Tipos de Evolução por Cluster\")\n",
    "plt.xlabel(\"Tipo de Evolução\")\n",
    "plt.ylabel(\"Cluster\")\n",
    "plt.show()"
   ]
  },
  {
   "cell_type": "code",
   "execution_count": null,
   "id": "7fa67318",
   "metadata": {},
   "outputs": [],
   "source": [
    "# classi_table = pd.crosstab(df[\"cluster\"], df[\"CLASSI_FIN\"])\n",
    "# classi_table.columns = [\"dengue\", \"dengue alarmante\", \"dengue grave\"]\n",
    "# classi_prop = classi_table.div(classi_table.sum(axis=1), axis=0)\n",
    "# classi_prop = classi_prop * 100\n",
    "\n",
    "raca_table = pd.crosstab(df[\"cluster\"], df[\"CS_RACA\"])\n",
    "raca_prop = raca_table.div(raca_table.sum(axis=1), axis=0)\n",
    "raca_prop.columns = [\"branca\", \"preta\", \"amarela\", \"parda\", \"indigena\"]\n",
    "raca_prop = raca_prop * 100"
   ]
  },
  {
   "cell_type": "code",
   "execution_count": null,
   "id": "084bf5c5",
   "metadata": {},
   "outputs": [],
   "source": [
    "plt.figure(figsize=(8, 5))\n",
    "sns.heatmap(raca_prop, annot=raca_prop.round(2).astype(str) + '%', cmap=\"OrRd\", fmt=\"\")\n",
    "plt.title(\"Proporção de Raças por Cluster\")\n",
    "plt.xlabel(\"Raças\")\n",
    "plt.ylabel(\"Cluster\")\n",
    "plt.show()"
   ]
  },
  {
   "cell_type": "markdown",
   "id": "1485d750",
   "metadata": {},
   "source": [
    "### DBSCAN com One Hot encoding e distância de Hamming"
   ]
  },
  {
   "cell_type": "code",
   "execution_count": null,
   "id": "b31d782b",
   "metadata": {},
   "outputs": [],
   "source": [
    "# from sklearn.cluster import DBSCAN\n",
    "\n",
    "# sample = df_clustering.sample(frac=0.2, random_state=1)\n",
    "\n",
    "# db = DBSCAN(eps=0.3, min_samples=10, metric='hamming')\n",
    "# labels = db.fit_predict(sample)\n"
   ]
  },
  {
   "cell_type": "code",
   "execution_count": null,
   "id": "2e51cd49",
   "metadata": {},
   "outputs": [],
   "source": [
    "# # Supondo que df seja o seu DataFrame binário original\n",
    "# pca = PCA(n_components=2)\n",
    "# df_2d = pca.fit_transform(sample)\n",
    "\n",
    "# # Transforma labels em array numpy\n",
    "# labels = np.array(labels)\n",
    "\n",
    "# # Define número de clusters (sem contar outliers)\n",
    "# n_clusters = len(set(labels)) - (1 if -1 in labels else 0)\n",
    "\n",
    "# # Cores para os clusters\n",
    "# plt.figure(figsize=(10, 6))\n",
    "# unique_labels = set(labels)\n",
    "# colors = plt.cm.get_cmap(\"tab10\", len(unique_labels))\n",
    "\n",
    "# for k in unique_labels:\n",
    "#     class_member_mask = (labels == k)\n",
    "#     xy = df_2d[class_member_mask]\n",
    "#     if k == -1:\n",
    "#         # Cor dos outliers (label -1)\n",
    "#         plt.scatter(xy[:, 0], xy[:, 1], c='k', marker='x', label='Outliers')\n",
    "#     else:\n",
    "#         plt.scatter(xy[:, 0], xy[:, 1], c=[colors(k)], label=f'Cluster {k}')\n",
    "\n",
    "# plt.legend()\n",
    "# plt.title(f'DBSCAN com {n_clusters} clusters')\n",
    "# plt.xlabel('PCA 1')\n",
    "# plt.ylabel('PCA 2')\n",
    "# plt.grid(True)\n",
    "# plt.tight_layout()\n",
    "# plt.show()"
   ]
  },
  {
   "cell_type": "markdown",
   "id": "4e168003",
   "metadata": {},
   "source": [
    "### KMeans - não funciona muito bem para dados categóricos"
   ]
  },
  {
   "cell_type": "code",
   "execution_count": null,
   "id": "3fd5340b",
   "metadata": {},
   "outputs": [],
   "source": [
    "# inertias = []\n",
    "# for k in range(2, 11):\n",
    "#     # kmeans = KMeans(n_clusters=k, random_state=42)\n",
    "#     kmeans = KMeans(n_clusters=k)\n",
    "#     kmeans.fit(X_scaled)\n",
    "#     inertias.append(kmeans.inertia_)\n",
    "\n",
    "# plt.plot(range(2, 11), inertias, marker='o')\n",
    "# plt.title(\"Elbow Method\")\n",
    "# plt.xlabel(\"Número de clusters\")\n",
    "# plt.ylabel(\"Inércia\")\n",
    "# plt.show()\n",
    "\n",
    "\n",
    "# kmeans = KMeans(n_clusters=5, random_state=42) \n",
    "# labels_kmeans = kmeans.fit_predict(X_scaled)\n",
    "# df_clustering[\"cluster\"] = labels_kmeans"
   ]
  },
  {
   "cell_type": "code",
   "execution_count": null,
   "id": "04132a72",
   "metadata": {},
   "outputs": [],
   "source": [
    "# pca = PCA(n_components=3)\n",
    "# X_pca = pca.fit_transform(X_scaled)\n",
    "\n",
    "# plt.figure(figsize=(8, 6))\n",
    "# plt.scatter(X_pca[:, 0], X_pca[:, 1])\n",
    "# plt.xlabel('PC1')\n",
    "# plt.ylabel('PC2')\n",
    "# plt.title('Visualização dos dados com PCA (2D)')\n",
    "# plt.grid(True)\n",
    "# plt.show()"
   ]
  },
  {
   "cell_type": "code",
   "execution_count": null,
   "id": "cca5fde1",
   "metadata": {},
   "outputs": [],
   "source": [
    "# 3. Visualizar os dados em 3D\n",
    "# fig = plt.figure(figsize=(10, 7))\n",
    "# ax = fig.add_subplot(111, projection='3d')\n",
    "\n",
    "# ax.scatter(\n",
    "#     X_pca[:, 0], X_pca[:, 1], X_pca[:, 2],\n",
    "#     c='gray',\n",
    "# )\n",
    "\n",
    "# ax.set_xlabel(\"PC1\")\n",
    "# ax.set_ylabel(\"PC2\")\n",
    "# ax.set_zlabel(\"PC3\")\n",
    "# ax.set_title(\"Visualização PCA em 3D\")\n",
    "# plt.show()"
   ]
  }
 ],
 "metadata": {
  "kernelspec": {
   "display_name": "venv",
   "language": "python",
   "name": "python3"
  },
  "language_info": {
   "codemirror_mode": {
    "name": "ipython",
    "version": 3
   },
   "file_extension": ".py",
   "mimetype": "text/x-python",
   "name": "python",
   "nbconvert_exporter": "python",
   "pygments_lexer": "ipython3",
   "version": "3.13.3"
  }
 },
 "nbformat": 4,
 "nbformat_minor": 5
}
