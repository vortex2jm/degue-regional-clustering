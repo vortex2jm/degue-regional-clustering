{
 "cells": [
  {
   "cell_type": "markdown",
   "id": "612c1f9d",
   "metadata": {},
   "source": [
    "## Visão Geral"
   ]
  },
  {
   "cell_type": "markdown",
   "id": "65b1212c",
   "metadata": {},
   "source": [
    "Nesta clusterização os dados são agregados por município para a formação de possíveis clusters regionais. Todos os dados agregados são proporcionais aos casos do município para evitar que municípios com mais casos estraguem a análise por desbalanceamento.<br>\n",
    "\n",
    "Os seguintes dados serão agregados:\n",
    " - Mediana de idade (ou média)\n",
    " - Porcentagem de hospitalização\n",
    " - Porcentagem de óbito por agravo\n",
    " - Porcentagem de PPI\n",
    " - Porcentagem de brancos (amarelos somam os 100% implicitamente pra evitar redundancia)\n",
    " - Porcentagem de homens (ou mulheres)\n",
    " - Porcentagem de gestantes\n",
    " - Porcentagem com comorbidades\n",
    " - Porcentagem com sintomas severos (nausea/vomito/dor-abdominal)\n",
    " - Porcentagem de dengue com sinais de alarme\n",
    " - Porcentagem de dengue grave\n",
    "\n",
    "\n",
    "*Serão considerados somente casos confirmados: CLASSI_FIN = 10 || 11 || 12*<br>"
   ]
  },
  {
   "cell_type": "markdown",
   "id": "de713038",
   "metadata": {},
   "source": [
    "## Bibliotecas"
   ]
  },
  {
   "cell_type": "code",
   "execution_count": null,
   "id": "615da236",
   "metadata": {},
   "outputs": [],
   "source": [
    "import numpy as np\n",
    "import pandas as pd\n",
    "import seaborn as sns\n",
    "import geopandas as gpd\n",
    "import matplotlib.pyplot as plt\n",
    "from sklearn.cluster import KMeans\n",
    "from sklearn.decomposition import PCA\n",
    "from sklearn.metrics import silhouette_score\n",
    "from sklearn.preprocessing import StandardScaler"
   ]
  },
  {
   "cell_type": "markdown",
   "id": "ec33148d",
   "metadata": {},
   "source": [
    "## Limpeza e pré processamento"
   ]
  },
  {
   "cell_type": "markdown",
   "id": "40a2cd5f",
   "metadata": {},
   "source": [
    "### Carregamento"
   ]
  },
  {
   "cell_type": "code",
   "execution_count": null,
   "id": "92bcf69b",
   "metadata": {},
   "outputs": [],
   "source": [
    "desired_cols = [\n",
    "  \"SG_UF\",      # Localidade\n",
    "  \"ID_MN_RESI\", \n",
    "\n",
    "  \"ANO_NASC\",   # Sociais\n",
    "  \"CS_SEXO\",\n",
    "  \"CS_RACA\",\n",
    "  \"CS_GESTANT\",\n",
    "\n",
    "  \"VOMITO\",     # Sintomas\n",
    "  \"NAUSEA\",\n",
    "  \"DOR_RETRO\",\n",
    "\n",
    "  \"DIABETES\",   # Comorbidades\n",
    "  \"HEMATOLOG\",\n",
    "  \"HEPATOPAT\",\n",
    "  \"RENAL\",\n",
    "  \"HIPERTENSA\",\n",
    "  \"ACIDO_PEPT\",\n",
    "  \"AUTO_IMUNE\",\n",
    "\n",
    "  \"HOSPITALIZ\", # Desfecho\n",
    "  \"CLASSI_FIN\", \n",
    "  \"EVOLUCAO\",\n",
    "]\n",
    "\n",
    "# Carregando dataset\n",
    "DATA_PATH = \"./data/dbc/DENGBR24.csv\"\n",
    "\n",
    "chunks = []\n",
    "\n",
    "for chunk in pd.read_csv(DATA_PATH, low_memory=False, usecols=desired_cols, chunksize=500_000):\n",
    "  filtered = chunk[\n",
    "    (chunk[\"CLASSI_FIN\"].isin([10, 11, 12]))  &\n",
    "    (chunk[\"ANO_NASC\"].notna())               &   \n",
    "    (chunk[\"ANO_NASC\"] > 1924)                &   \n",
    "    (chunk[\"CS_SEXO\"].isin([\"M\",\"F\"]))        &\n",
    "    (chunk[\"CS_RACA\"].isin([1, 2, 3, 4, 5]))              \n",
    "  ]\n",
    "  chunks.append(filtered)\n",
    "\n",
    "df = pd.concat(chunks, ignore_index=True)\n",
    "df.head()"
   ]
  },
  {
   "cell_type": "code",
   "execution_count": null,
   "id": "bd148e9d",
   "metadata": {},
   "outputs": [],
   "source": [
    "df.info()"
   ]
  },
  {
   "cell_type": "markdown",
   "id": "1be2c1bb",
   "metadata": {},
   "source": [
    "### Tratamento dos dados"
   ]
  },
  {
   "cell_type": "code",
   "execution_count": null,
   "id": "17d4a87c",
   "metadata": {},
   "outputs": [],
   "source": [
    "df_treated = df.copy()"
   ]
  },
  {
   "cell_type": "code",
   "execution_count": null,
   "id": "3000e9da",
   "metadata": {},
   "outputs": [],
   "source": [
    "\n",
    "df_treated[\"IDADE\"] = 2024 - df_treated[\"ANO_NASC\"]\n",
    "\n",
    "df_treated[\"SINTOMAS_SEVEROS\"] = (\n",
    "  (df_treated[\"NAUSEA\"] == 1) | \n",
    "  (df_treated[\"VOMITO\"] == 1) | \n",
    "  (df_treated[\"DOR_RETRO\"] == 1)\n",
    ").astype(int)\n",
    "\n",
    "df_treated[\"COMORBIDADES\"] = (\n",
    "  (df_treated[\"DIABETES\"] == 1)   | \n",
    "  (df_treated[\"HEMATOLOG\"] == 1)  |\n",
    "  (df_treated[\"HEPATOPAT\"] == 1)  |\n",
    "  (df_treated[\"RENAL\"] == 1)      |\n",
    "  (df_treated[\"HIPERTENSA\"] == 1) |\n",
    "  (df_treated[\"ACIDO_PEPT\"] == 1) |\n",
    "  (df_treated[\"AUTO_IMUNE\"] == 1)\n",
    ").astype(int)\n",
    "\n",
    "df_treated[\"PPI\"] = df_treated[\"CS_RACA\"].isin([2, 4, 5]).astype(int)\n",
    "df_treated[\"BRANCO\"] = (df_treated[\"CS_RACA\"] == 1).astype(int)\n",
    "df_treated[\"MASCULINO\"] = (df_treated[\"CS_SEXO\"] == 'M').astype(int)\n",
    "df_treated[\"OBITO_AGRAVO\"] = (df_treated[\"EVOLUCAO\"] == 2).astype(int)\n",
    "df_treated[\"GESTANTE\"] = df_treated[\"CS_GESTANT\"].between(1, 4).astype(int)\n",
    "df_treated[\"DENGUE_SA\"] = (df_treated[\"CLASSI_FIN\"] == 11).astype(int)\n",
    "df_treated[\"DENGUE_GRAVE\"] = (df_treated[\"CLASSI_FIN\"] == 12).astype(int)\n",
    "df_treated[\"HOSPITALIZACAO\"] = (df_treated[\"HOSPITALIZ\"] == 1).astype(int)"
   ]
  },
  {
   "cell_type": "code",
   "execution_count": null,
   "id": "20a07aab",
   "metadata": {},
   "outputs": [],
   "source": [
    "clustering_cols = [\n",
    "  \"ID_MN_RESI\", \"IDADE\", \"SINTOMAS_SEVEROS\", \"COMORBIDADES\", \"PPI\", \"BRANCO\", \"MASCULINO\",\n",
    "  \"OBITO_AGRAVO\", \"GESTANTE\", \"DENGUE_SA\", \"DENGUE_GRAVE\", \"HOSPITALIZACAO\"\n",
    "]\n",
    "df_clustering = df_treated[clustering_cols]\n",
    "df_clustering.head()"
   ]
  },
  {
   "cell_type": "code",
   "execution_count": null,
   "id": "ee67d472",
   "metadata": {},
   "outputs": [],
   "source": [
    "df_agg = df_clustering.groupby(\"ID_MN_RESI\").agg({\n",
    "  \"IDADE\": \"median\",\n",
    "  \"HOSPITALIZACAO\": \"mean\",\n",
    "  \"OBITO_AGRAVO\": \"mean\",\n",
    "  \"PPI\": \"mean\",\n",
    "  \"BRANCO\": \"mean\",\n",
    "  \"MASCULINO\": \"mean\",\n",
    "  \"GESTANTE\": \"mean\",\n",
    "  \"COMORBIDADES\": \"mean\",\n",
    "  \"SINTOMAS_SEVEROS\": \"mean\",\n",
    "  \"DENGUE_SA\": \"mean\",\n",
    "  \"DENGUE_GRAVE\": \"mean\"\n",
    "}).rename(columns={\n",
    "  \"IDADE\": \"mediana_idade\",\n",
    "  \"HOSPITALIZACAO\": \"%_hospitalizacao\",\n",
    "  \"OBITO_AGRAVO\": \"%_obito_agravo\",\n",
    "  \"PPI\": \"%_ppi\",\n",
    "  \"BRANCO\": \"%_brancos\",\n",
    "  \"MASCULINO\": \"%_masculino\",\n",
    "  \"GESTANTE\": \"%_gestante\",\n",
    "  \"COMORBIDADES\": \"%_comorbidades\",\n",
    "  \"SINTOMAS_SEVEROS\": \"%_sintomas_severos\",\n",
    "  \"DENGUE_SA\": \"%_dengue_sinais_alarme\",\n",
    "  \"DENGUE_GRAVE\": \"%_dengue_grave\"\n",
    "}).reset_index()\n",
    "\n",
    "df_agg = df_agg.rename(columns={\"ID_MN_RESI\": \"municipio\"})\n",
    "df_agg.head()"
   ]
  },
  {
   "cell_type": "markdown",
   "id": "1f78174d",
   "metadata": {},
   "source": [
    "## Pré clusterização"
   ]
  },
  {
   "cell_type": "markdown",
   "id": "feade3db",
   "metadata": {},
   "source": [
    "### Correlação"
   ]
  },
  {
   "cell_type": "code",
   "execution_count": null,
   "id": "a3f6fdfd",
   "metadata": {},
   "outputs": [],
   "source": [
    "df_corr = df_agg.drop(columns=[\"municipio\"])\n",
    "corr_matrix = df_corr.corr()\n",
    "\n",
    "plt.figure(figsize=(12, 8))\n",
    "sns.heatmap(corr_matrix, annot=True, cmap='coolwarm', fmt=\".2f\", linewidths=0.5)\n",
    "plt.title(\"Matriz de Correlação entre Variáveis Agregadas\")\n",
    "plt.tight_layout()\n",
    "plt.show()"
   ]
  },
  {
   "cell_type": "markdown",
   "id": "53337012",
   "metadata": {},
   "source": [
    "### Normalização"
   ]
  },
  {
   "cell_type": "code",
   "execution_count": null,
   "id": "81480a1f",
   "metadata": {},
   "outputs": [],
   "source": [
    "municipios = df_agg[\"municipio\"]\n",
    "\n",
    "df_final = df_agg.drop(columns=[\"%_brancos\", \"municipio\"])\n",
    "df_final.head()"
   ]
  },
  {
   "cell_type": "code",
   "execution_count": null,
   "id": "40f134e0",
   "metadata": {},
   "outputs": [],
   "source": [
    "scaler = StandardScaler()\n",
    "features_norm = scaler.fit_transform(df_final)"
   ]
  },
  {
   "cell_type": "markdown",
   "id": "f065e2af",
   "metadata": {},
   "source": [
    "### Escolha do K do KMeans"
   ]
  },
  {
   "cell_type": "markdown",
   "id": "ccad7714",
   "metadata": {},
   "source": [
    "#### Inércia"
   ]
  },
  {
   "cell_type": "code",
   "execution_count": null,
   "id": "523d591d",
   "metadata": {},
   "outputs": [],
   "source": [
    "inertia = []\n",
    "K_range = range(1, 18)\n",
    "\n",
    "for k in K_range:\n",
    "    kmeans = KMeans(n_clusters=k, random_state=1)\n",
    "    kmeans.fit(features_norm)\n",
    "    inertia.append(kmeans.inertia_)\n",
    "\n",
    "plt.figure(figsize=(8,5))\n",
    "plt.plot(K_range, inertia, 'bo-')\n",
    "plt.xlabel('Número de clusters K')\n",
    "plt.ylabel('Inércia (Soma das distâncias quadradas)')\n",
    "plt.title('Método do Cotovelo para escolher K')\n",
    "plt.show()"
   ]
  },
  {
   "cell_type": "markdown",
   "id": "eeee8cb5",
   "metadata": {},
   "source": [
    "#### Coeficiente de silhueta v1"
   ]
  },
  {
   "cell_type": "code",
   "execution_count": null,
   "id": "125a8aa9",
   "metadata": {},
   "outputs": [],
   "source": [
    "silhouette_scores = []\n",
    "K_range = range(2, 12)  # Silhouette não é definido para K=1\n",
    "\n",
    "for k in K_range:\n",
    "    kmeans = KMeans(n_clusters=k, random_state=1)\n",
    "    labels = kmeans.fit_predict(features_norm)\n",
    "    score = silhouette_score(features_norm, labels)\n",
    "    silhouette_scores.append(score)\n",
    "\n",
    "plt.figure(figsize=(8,5))\n",
    "plt.plot(K_range, silhouette_scores, 'bo-')\n",
    "plt.xlabel('Número de clusters K')\n",
    "plt.ylabel('Índice Silhouette')\n",
    "plt.title('Avaliação do K usando Índice Silhouette')\n",
    "plt.show()"
   ]
  },
  {
   "cell_type": "markdown",
   "id": "785b2a84",
   "metadata": {},
   "source": [
    "#### Coeficiente de silhueta v2"
   ]
  },
  {
   "cell_type": "code",
   "execution_count": null,
   "id": "84e5ba76",
   "metadata": {},
   "outputs": [],
   "source": [
    "# Trecho adaptado de \n",
    "# https://scikit-learn.org/stable/auto_examples/cluster/plot_kmeans_silhouette_analysis.html\n",
    "\n",
    "from sklearn.datasets import make_blobs\n",
    "from sklearn.cluster import KMeans\n",
    "from sklearn.metrics import silhouette_samples, silhouette_score\n",
    "\n",
    "import matplotlib.pyplot as plt\n",
    "import matplotlib.cm as cm\n",
    "import numpy as np\n",
    "\n",
    "range_n_clusters = [2, 3, 4, 5, 6, 7, 8, 9, 10, 11, 12]\n",
    "\n",
    "for n_clusters in range_n_clusters:\n",
    "    # Create a subplot with 1 row and 2 columns\n",
    "    fig, (ax1) = plt.subplots(1)\n",
    "    fig.set_size_inches(8, 5)\n",
    "\n",
    "    # The 1st subplot is the silhouette plot\n",
    "    # The silhouette coefficient can range from -1, 1 but in this example all\n",
    "    # lie within [-0.1, 1]\n",
    "    ax1.set_xlim([-0.1, 1])\n",
    "    # The (n_clusters+1)*10 is for inserting blank space between silhouette\n",
    "    # plots of individual clusters, to demarcate them clearly.\n",
    "    ax1.set_ylim([0, len(features_norm) + (n_clusters + 1) * 10])\n",
    "\n",
    "    # Initialize the clusterer with n_clusters value and a random generator\n",
    "    # seed of 10 for reproducibility.\n",
    "    clusterer = KMeans(n_clusters=n_clusters, random_state=1)\n",
    "    cluster_labels = clusterer.fit_predict(features_norm)\n",
    "\n",
    "    # The silhouette_score gives the average value for all the samples.\n",
    "    # This gives a perspective into the density and separation of the formed\n",
    "    # clusters\n",
    "    silhouette_avg = silhouette_score(features_norm, cluster_labels)\n",
    "    print(\n",
    "        \"For n_clusters =\",\n",
    "        n_clusters,\n",
    "        \"The average silhouette_score is :\",\n",
    "        silhouette_avg,\n",
    "    )\n",
    "\n",
    "    # Compute the silhouette scores for each sample\n",
    "    sample_silhouette_values = silhouette_samples(features_norm, cluster_labels)\n",
    "\n",
    "    y_lower = 10\n",
    "    for i in range(n_clusters):\n",
    "        # Aggregate the silhouette scores for samples belonging to\n",
    "        # cluster i, and sort them\n",
    "        ith_cluster_silhouette_values = sample_silhouette_values[cluster_labels == i]\n",
    "\n",
    "        ith_cluster_silhouette_values.sort()\n",
    "\n",
    "        size_cluster_i = ith_cluster_silhouette_values.shape[0]\n",
    "        y_upper = y_lower + size_cluster_i\n",
    "\n",
    "        color = cm.nipy_spectral(float(i) / n_clusters)\n",
    "        ax1.fill_betweenx(\n",
    "            np.arange(y_lower, y_upper),\n",
    "            0,\n",
    "            ith_cluster_silhouette_values,\n",
    "            facecolor=color,\n",
    "            edgecolor=color,\n",
    "            alpha=0.7,\n",
    "        )\n",
    "\n",
    "        # Label the silhouette plots with their cluster numbers at the middle\n",
    "        ax1.text(-0.05, y_lower + 0.5 * size_cluster_i, str(i))\n",
    "\n",
    "        # Compute the new y_lower for next plot\n",
    "        y_lower = y_upper + 10  # 10 for the 0 samples\n",
    "\n",
    "    ax1.set_title(\"The silhouette plot for the various clusters.\")\n",
    "    ax1.set_xlabel(\"The silhouette coefficient values\")\n",
    "    ax1.set_ylabel(\"Cluster label\")\n",
    "\n",
    "    # The vertical line for average silhouette score of all the values\n",
    "    ax1.axvline(x=silhouette_avg, color=\"red\", linestyle=\"--\")\n",
    "\n",
    "    ax1.set_yticks([])  # Clear the yaxis labels / ticks\n",
    "    ax1.set_xticks([-0.1, 0, 0.2, 0.4, 0.6, 0.8, 1])\n",
    "\n",
    "    plt.suptitle(\n",
    "        \"Silhouette analysis for KMeans clustering on sample data with n_clusters = %d\"\n",
    "        % n_clusters,\n",
    "        fontsize=14,\n",
    "        fontweight=\"bold\",\n",
    "    )"
   ]
  },
  {
   "cell_type": "markdown",
   "id": "aa356f23",
   "metadata": {},
   "source": [
    "## Clusterização"
   ]
  },
  {
   "cell_type": "markdown",
   "id": "8f6a700b",
   "metadata": {},
   "source": [
    "### KMeans (melhor resultado)"
   ]
  },
  {
   "cell_type": "code",
   "execution_count": null,
   "id": "9f885bf9",
   "metadata": {},
   "outputs": [],
   "source": [
    "kmeans = KMeans(n_clusters=9, random_state=1)\n",
    "clusters = kmeans.fit_predict(features_norm)"
   ]
  },
  {
   "cell_type": "code",
   "execution_count": null,
   "id": "8a3d7f4f",
   "metadata": {},
   "outputs": [],
   "source": [
    "# Para visualização em 2D\n",
    "pca_2d = PCA(n_components=2)\n",
    "features_pca_2d = pca_2d.fit_transform(features_norm)\n",
    "\n",
    "# Para visualização em 3D\n",
    "pca_3d = PCA(n_components=3)\n",
    "features_pca_3d = pca_3d.fit_transform(features_norm)"
   ]
  },
  {
   "cell_type": "code",
   "execution_count": null,
   "id": "9e060c42",
   "metadata": {},
   "outputs": [],
   "source": [
    "plt.figure(figsize=(8,6))\n",
    "scatter = plt.scatter(features_pca_2d[:, 0], features_pca_2d[:, 1], c=clusters, cmap='rocket')\n",
    "plt.legend(*scatter.legend_elements(), title=\"Clusters\")\n",
    "plt.title(\"Clusters com KMeans (2D PCA)\")\n",
    "plt.xlabel(\"Componente Principal 1\")\n",
    "plt.ylabel(\"Componente Principal 2\")\n",
    "plt.colorbar(scatter, label='Cluster')\n",
    "plt.grid(True)\n",
    "plt.tight_layout()\n",
    "plt.show()"
   ]
  },
  {
   "cell_type": "code",
   "execution_count": null,
   "id": "c340083c",
   "metadata": {},
   "outputs": [],
   "source": [
    "df_clustered = df_agg.copy()\n",
    "\n",
    "df_clustered[\"cluster\"] = clusters\n",
    "df_clustered.head()"
   ]
  },
  {
   "cell_type": "code",
   "execution_count": null,
   "id": "368350dd",
   "metadata": {},
   "outputs": [],
   "source": [
    "df_stats = df_clustered.drop(columns=['municipio', 'mediana_idade'])\n",
    "stats_por_cluster = df_stats.groupby('cluster').mean()\n",
    "\n",
    "stats_por_cluster = stats_por_cluster * 100\n",
    "plt.figure(figsize=(12, 6))\n",
    "sns.heatmap(stats_por_cluster.T, annot=stats_por_cluster.T.round(2).astype(str) + '%', fmt=\"\", cmap='rocket_r')\n",
    "plt.title(\"Média das Variáveis por Cluster\")\n",
    "plt.xlabel(\"Clusters\")\n",
    "plt.ylabel(\"Variáveis\")\n",
    "plt.tight_layout()\n",
    "plt.show()"
   ]
  },
  {
   "cell_type": "code",
   "execution_count": null,
   "id": "3bfc21a5",
   "metadata": {},
   "outputs": [],
   "source": [
    "media_mediana_idade = df_clustered.groupby('cluster')['mediana_idade'].mean()\n",
    "media_mediana_idade\n",
    "\n",
    "plt.figure(figsize=(10,6))\n",
    "sns.barplot(x=media_mediana_idade.index, y=media_mediana_idade.values, palette=\"viridis\")\n",
    "plt.title(\"Média da Mediana de Idades por Cluster\")\n",
    "plt.xlabel(\"Cluster\")\n",
    "plt.ylabel(\"Média da Mediana de Idade\")\n",
    "plt.xticks(media_mediana_idade.index)\n",
    "plt.ylim(0, media_mediana_idade.max() + 5)\n",
    "plt.grid(axis='y', linestyle='--', alpha=0.7)\n",
    "\n",
    "# Opcional: mostrar os valores em cima das barras\n",
    "for i, v in enumerate(media_mediana_idade.values):\n",
    "    plt.text(i, v + 0.5, f\"{v:.2f}\", ha='center')\n",
    "\n",
    "plt.tight_layout()\n",
    "plt.show()"
   ]
  },
  {
   "cell_type": "code",
   "execution_count": null,
   "id": "e9f3d711",
   "metadata": {},
   "outputs": [],
   "source": [
    "# Converter para string e extrair os 2 primeiros dígitos como código do estado\n",
    "df_clustered['codigo_uf'] = df_clustered['municipio'].astype(int).astype(str).str[:2]\n",
    "df_clustered['codigo_uf'] = df_clustered['codigo_uf'].astype(int)\n",
    "\n",
    "codigo_uf_para_nome = {\n",
    "    11: 'RO', 12: 'AC', 13: 'AM', 14: 'RR', 15: 'PA', 16: 'AP', 17: 'TO',\n",
    "    21: 'MA', 22: 'PI', 23: 'CE', 24: 'RN', 25: 'PB', 26: 'PE', 27: 'AL', \n",
    "    28: 'SE', 29: 'BA', 31: 'MG', 32: 'ES', 33: 'RJ', 35: 'SP', 41: 'PR', \n",
    "    42: 'SC', 43: 'RS', 50: 'MS', 51: 'MT', 52: 'GO', 53: 'DF'\n",
    "}\n",
    "\n",
    "df_clustered['estado'] = df_clustered['codigo_uf'].map(codigo_uf_para_nome)\n",
    "contagem_estado = df_clustered.groupby(['cluster', 'estado']).size().unstack(fill_value=0)\n",
    "percentual_estado = contagem_estado.div(contagem_estado.sum(axis=1), axis=0) * 100\n",
    "plt.figure(figsize=(15, 8))\n",
    "sns.heatmap(percentual_estado, annot=True, fmt='.2f', cmap='rocket_r')\n",
    "plt.title('Prevalência percentual por estado em cada cluster')\n",
    "plt.xlabel('Estado')\n",
    "plt.ylabel('Cluster')\n",
    "plt.tight_layout()\n",
    "plt.show()\n"
   ]
  },
  {
   "cell_type": "code",
   "execution_count": null,
   "id": "210bfb55",
   "metadata": {},
   "outputs": [],
   "source": [
    "# GeoJSON com os estados\n",
    "brasil = gpd.read_file(\"https://raw.githubusercontent.com/codeforamerica/click_that_hood/master/public/data/brazil-states.geojson\")\n",
    "\n",
    "# Renomear para garantir que a coluna de estado tenha o mesmo nome do seu DataFrame\n",
    "brasil = brasil.rename(columns={\"name\": \"estado\"})\n",
    "brasil[\"estado\"] = brasil[\"estado\"].str.upper()"
   ]
  },
  {
   "cell_type": "code",
   "execution_count": null,
   "id": "b3869b21",
   "metadata": {},
   "outputs": [],
   "source": [
    "percentual_estado"
   ]
  },
  {
   "cell_type": "code",
   "execution_count": null,
   "id": "73acbb4b",
   "metadata": {},
   "outputs": [],
   "source": [
    "# Supondo que df_prevalencia seja seu DataFrame atual\n",
    "df_long = percentual_estado.reset_index().melt(id_vars='cluster', var_name='estado', value_name='prevalencia')"
   ]
  },
  {
   "cell_type": "code",
   "execution_count": null,
   "id": "0bb25289",
   "metadata": {},
   "outputs": [],
   "source": [
    "nome_to_sigla = {\n",
    "    'Acre': 'AC', 'Alagoas': 'AL', 'Amapá': 'AP', 'Amazonas': 'AM', 'Bahia': 'BA',\n",
    "    'Ceará': 'CE', 'Distrito Federal': 'DF', 'Espírito Santo': 'ES', 'Goiás': 'GO',\n",
    "    'Maranhão': 'MA', 'Mato Grosso': 'MT', 'Mato Grosso do Sul': 'MS', 'Minas Gerais': 'MG',\n",
    "    'Pará': 'PA', 'Paraíba': 'PB', 'Paraná': 'PR', 'Pernambuco': 'PE', 'Piauí': 'PI',\n",
    "    'Rio de Janeiro': 'RJ', 'Rio Grande do Norte': 'RN', 'Rio Grande do Sul': 'RS',\n",
    "    'Rondônia': 'RO', 'Roraima': 'RR', 'Santa Catarina': 'SC', 'São Paulo': 'SP',\n",
    "    'Sergipe': 'SE', 'Tocantins': 'TO'\n",
    "}\n",
    "\n",
    "brasil['estado'] = brasil['sigla'].map(nome_to_sigla)\n",
    "# brasil.columns"
   ]
  },
  {
   "cell_type": "code",
   "execution_count": null,
   "id": "d701e9a7",
   "metadata": {},
   "outputs": [],
   "source": [
    "cltrs = df_long['cluster'].unique()\n",
    "\n",
    "for cluster_id in cltrs:\n",
    "    dados_cluster = df_long[df_long['cluster'] == cluster_id]\n",
    "    \n",
    "    # Junta com o mapa\n",
    "    mapa = brasil.merge(dados_cluster, left_on='sigla' ,right_on=\"estado\", how=\"left\")\n",
    "\n",
    "    # Plot\n",
    "    fig, ax = plt.subplots(figsize=(12, 10))\n",
    "    mapa.plot(\n",
    "        column=\"prevalencia\",\n",
    "        cmap=\"OrRd\",\n",
    "        linewidth=0.8,\n",
    "        ax=ax,\n",
    "        edgecolor='0.8',\n",
    "        legend=True,\n",
    "        missing_kwds={\"color\": \"lightgrey\", \"label\": \"Sem dados\"},\n",
    "    )\n",
    "\n",
    "    ax.set_title(f\"Distribuição percentual de municípios por estado - Cluster {cluster_id}\", fontsize=16)\n",
    "    ax.axis('off')\n",
    "    plt.tight_layout()\n",
    "    plt.show()"
   ]
  },
  {
   "cell_type": "markdown",
   "id": "fbaa96cd",
   "metadata": {},
   "source": [
    "### Agrupamento Espectral (resultado insatisfatório)"
   ]
  },
  {
   "cell_type": "markdown",
   "id": "807312ae",
   "metadata": {},
   "source": [
    "#### Escolha do K"
   ]
  },
  {
   "cell_type": "markdown",
   "id": "b50784fa",
   "metadata": {},
   "source": [
    "Calculando eigengap"
   ]
  },
  {
   "cell_type": "code",
   "execution_count": null,
   "id": "6eecd501",
   "metadata": {},
   "outputs": [],
   "source": [
    "from sklearn.neighbors import kneighbors_graph\n",
    "from scipy.sparse import csgraph\n",
    "from numpy import linalg as LA\n",
    "\n",
    "# 1 Construindo a matriz de adjacências do grafo de vizinhos mais próximos.\n",
    "G = kneighbors_graph(features_norm, n_neighbors = 10, include_self = True)\n",
    "A = 0.5 * (G + G.T)\n",
    "\n",
    "# 2 Construindo a Laplaciana Normalizada\n",
    "L = csgraph.laplacian(A, normed = True).todense()\n",
    "\n",
    "# 3 Obtendo os autovalores da Laplaciana Normalizada\n",
    "# Valores já estão ordenados em ordem crescente.\n",
    "values, _ = LA.eigh(L)\n",
    "\n",
    "# 4 Plotando os valores dos 'gaps' e escolhendo um k adequado.\n",
    "plt.scatter([i for i in range(1, 21)], values[:20])\n",
    "plt.xlabel('Índice do autovalor')\n",
    "plt.ylabel('Autovalor');"
   ]
  },
  {
   "cell_type": "markdown",
   "id": "cef71eb1",
   "metadata": {},
   "source": [
    "#### Clusertização"
   ]
  },
  {
   "cell_type": "code",
   "execution_count": null,
   "id": "9369d91d",
   "metadata": {},
   "outputs": [],
   "source": [
    "from sklearn.cluster import SpectralClustering\n",
    "\n",
    "# Defina o número de clusters desejado\n",
    "n_clusters = 2 # ou o número que você quiser testar\n",
    "\n",
    "# Aplique o agrupamento espectral\n",
    "spectral = SpectralClustering(n_clusters=n_clusters, affinity='nearest_neighbors', random_state=42)\n",
    "labels_spectral = spectral.fit_predict(features_norm)\n",
    "\n",
    "# Adicione os rótulos ao seu dataframe original\n",
    "df_clustered['cluster_spectral'] = labels_spectral"
   ]
  },
  {
   "cell_type": "code",
   "execution_count": null,
   "id": "0bd83c92",
   "metadata": {},
   "outputs": [],
   "source": [
    "plt.scatter(features_pca_2d[:, 0], features_pca_2d[:, 1], c=labels_spectral, cmap='rocket')\n",
    "plt.title(\"Clusters com Spectral Clustering\")\n",
    "plt.show()"
   ]
  },
  {
   "cell_type": "code",
   "execution_count": null,
   "id": "6597de22",
   "metadata": {},
   "outputs": [],
   "source": [
    "df_clustered.head()"
   ]
  },
  {
   "cell_type": "code",
   "execution_count": null,
   "id": "4b21929b",
   "metadata": {},
   "outputs": [],
   "source": [
    "df_stats_spectral = df_clustered.drop(columns=['municipio', 'mediana_idade', \"codigo_uf\", \"estado\", \"cluster\"])\n",
    "stats_por_cluster_spectral = df_stats_spectral.groupby('cluster_spectral').mean()\n",
    "\n",
    "stats_por_cluster_spectral = stats_por_cluster_spectral * 100\n",
    "plt.figure(figsize=(12, 6))\n",
    "sns.heatmap(stats_por_cluster_spectral.T, annot=stats_por_cluster_spectral.T.round(2).astype(str) + '%', fmt=\"\", cmap='rocket_r')\n",
    "plt.title(\"Média das Variáveis por Cluster\")\n",
    "plt.xlabel(\"Clusters\")\n",
    "plt.ylabel(\"Variáveis\")\n",
    "plt.tight_layout()\n",
    "plt.show()"
   ]
  },
  {
   "cell_type": "markdown",
   "id": "d3490b50",
   "metadata": {},
   "source": [
    "### DBScan (resultado insatisfatório)"
   ]
  },
  {
   "cell_type": "markdown",
   "id": "3aec7d1c",
   "metadata": {},
   "source": [
    "#### Escolha do eps"
   ]
  },
  {
   "cell_type": "code",
   "execution_count": null,
   "id": "c38e8fc2",
   "metadata": {},
   "outputs": [],
   "source": [
    "from sklearn.neighbors import NearestNeighbors\n",
    "import matplotlib.pyplot as plt\n",
    "import numpy as np\n",
    "\n",
    "k = 10  # igual ao min_samples\n",
    "neighbors = NearestNeighbors(n_neighbors=k)\n",
    "neighbors_fit = neighbors.fit(features_norm)\n",
    "distances, indices = neighbors_fit.kneighbors(features_norm)\n",
    "\n",
    "distances = np.sort(distances[:, -1])  # distância até o 10º vizinho\n",
    "\n",
    "plt.figure(figsize=(8, 5))\n",
    "plt.plot(distances)\n",
    "plt.title(\"Gráfico k-distance para escolha do eps\")\n",
    "plt.xlabel(\"Pontos ordenados\")\n",
    "plt.ylabel(f\"Distância ao {k}º vizinho\")\n",
    "plt.grid(True)\n",
    "plt.show()\n"
   ]
  },
  {
   "cell_type": "markdown",
   "id": "89c2ec6c",
   "metadata": {},
   "source": [
    "#### Clusterização"
   ]
  },
  {
   "cell_type": "code",
   "execution_count": null,
   "id": "01979e87",
   "metadata": {},
   "outputs": [],
   "source": [
    "from sklearn.cluster import DBSCAN\n",
    "\n",
    "dbscan = DBSCAN(eps=4, min_samples=20)  # k = min_samples\n",
    "labels = dbscan.fit_predict(features_norm)\n",
    "\n",
    "df_clustered['cluster_dbscan'] = labels"
   ]
  },
  {
   "cell_type": "code",
   "execution_count": null,
   "id": "1226922b",
   "metadata": {},
   "outputs": [],
   "source": [
    "sns.countplot(x='cluster_dbscan', data=df_clustered)\n",
    "plt.title(\"Distribuição dos Clusters pelo DBSCAN\")"
   ]
  }
 ],
 "metadata": {
  "kernelspec": {
   "display_name": "venv",
   "language": "python",
   "name": "python3"
  },
  "language_info": {
   "codemirror_mode": {
    "name": "ipython",
    "version": 3
   },
   "file_extension": ".py",
   "mimetype": "text/x-python",
   "name": "python",
   "nbconvert_exporter": "python",
   "pygments_lexer": "ipython3",
   "version": "3.13.3"
  }
 },
 "nbformat": 4,
 "nbformat_minor": 5
}
